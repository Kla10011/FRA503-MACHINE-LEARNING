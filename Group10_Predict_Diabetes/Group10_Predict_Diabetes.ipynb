{
 "cells": [
  {
   "attachments": {},
   "cell_type": "markdown",
   "metadata": {},
   "source": [
    "# Project-FRA503 Machine Learning\n",
    "\n",
    "สมาชิกทีม \n",
    "\n",
    "1. นายรณกร เมฆวิมานลอย 63340500051\n"
   ]
  },
  {
   "cell_type": "markdown",
   "metadata": {},
   "source": [
    "## Data Exploration"
   ]
  },
  {
   "attachments": {},
   "cell_type": "markdown",
   "metadata": {},
   "source": [
    "Dataset ที่นำมาวิเคราะห์มาจาก https://www.kaggle.com/datasets/whenamancodes/predict-diabities (diabities.Csv) <br>\n",
    "ชุดข้อมูลนี้ต้องการที่จะวินิจฉัยหาคนที่เป็นโรคเบาหวาน โดยวิเคราะห์จาก feature ทั้งหมด 9 feature <br>\n",
    "โดยมี sample ทั้งหมด 768 คน แยก feature Outcome ออกมาเก็บในตัวแปล df_y เหลือชุดข้อมูลในการวิเคราะห์ทั้งหมด 8 feature"
   ]
  },
  {
   "attachments": {},
   "cell_type": "markdown",
   "metadata": {},
   "source": [
    "Explain Features\n",
    "- Pregnancies คือ จำนวนการตั้งครรภ์\n",
    "- Glucose คือ ระดับกลูโคสในเลือด\n",
    "- BloodPressure คือ การวัดความดันโลหิต\n",
    "- SkinThickness\tคือ ความหนาของผิวหนัง\n",
    "- Insulin คือ ระดับอินซูลินในเลือด\n",
    "- BMI คือ ดัชนีมวลกาย\n",
    "- DiabetesPedigreeFunction คือ เปอร์เซ็นต์เบาหวาน\n",
    "- Age คือ อายุ \n",
    "- Outcome คือ class target คนที่เป็นกับไม่เป็น\n"
   ]
  },
  {
   "cell_type": "code",
   "execution_count": 1396,
   "metadata": {},
   "outputs": [
    {
     "name": "stdout",
     "output_type": "stream",
     "text": [
      "(768, 9)\n"
     ]
    },
    {
     "data": {
      "text/html": [
       "<div>\n",
       "<style scoped>\n",
       "    .dataframe tbody tr th:only-of-type {\n",
       "        vertical-align: middle;\n",
       "    }\n",
       "\n",
       "    .dataframe tbody tr th {\n",
       "        vertical-align: top;\n",
       "    }\n",
       "\n",
       "    .dataframe thead th {\n",
       "        text-align: right;\n",
       "    }\n",
       "</style>\n",
       "<table border=\"1\" class=\"dataframe\">\n",
       "  <thead>\n",
       "    <tr style=\"text-align: right;\">\n",
       "      <th></th>\n",
       "      <th>Pregnancies</th>\n",
       "      <th>Glucose</th>\n",
       "      <th>BloodPressure</th>\n",
       "      <th>SkinThickness</th>\n",
       "      <th>Insulin</th>\n",
       "      <th>BMI</th>\n",
       "      <th>DiabetesPedigreeFunction</th>\n",
       "      <th>Age</th>\n",
       "      <th>Outcome</th>\n",
       "    </tr>\n",
       "  </thead>\n",
       "  <tbody>\n",
       "    <tr>\n",
       "      <th>0</th>\n",
       "      <td>6</td>\n",
       "      <td>148</td>\n",
       "      <td>72</td>\n",
       "      <td>35</td>\n",
       "      <td>0</td>\n",
       "      <td>33.6</td>\n",
       "      <td>0.627</td>\n",
       "      <td>50</td>\n",
       "      <td>1</td>\n",
       "    </tr>\n",
       "    <tr>\n",
       "      <th>1</th>\n",
       "      <td>1</td>\n",
       "      <td>85</td>\n",
       "      <td>66</td>\n",
       "      <td>29</td>\n",
       "      <td>0</td>\n",
       "      <td>26.6</td>\n",
       "      <td>0.351</td>\n",
       "      <td>31</td>\n",
       "      <td>0</td>\n",
       "    </tr>\n",
       "    <tr>\n",
       "      <th>2</th>\n",
       "      <td>8</td>\n",
       "      <td>183</td>\n",
       "      <td>64</td>\n",
       "      <td>0</td>\n",
       "      <td>0</td>\n",
       "      <td>23.3</td>\n",
       "      <td>0.672</td>\n",
       "      <td>32</td>\n",
       "      <td>1</td>\n",
       "    </tr>\n",
       "    <tr>\n",
       "      <th>3</th>\n",
       "      <td>1</td>\n",
       "      <td>89</td>\n",
       "      <td>66</td>\n",
       "      <td>23</td>\n",
       "      <td>94</td>\n",
       "      <td>28.1</td>\n",
       "      <td>0.167</td>\n",
       "      <td>21</td>\n",
       "      <td>0</td>\n",
       "    </tr>\n",
       "    <tr>\n",
       "      <th>4</th>\n",
       "      <td>0</td>\n",
       "      <td>137</td>\n",
       "      <td>40</td>\n",
       "      <td>35</td>\n",
       "      <td>168</td>\n",
       "      <td>43.1</td>\n",
       "      <td>2.288</td>\n",
       "      <td>33</td>\n",
       "      <td>1</td>\n",
       "    </tr>\n",
       "  </tbody>\n",
       "</table>\n",
       "</div>"
      ],
      "text/plain": [
       "   Pregnancies  Glucose  BloodPressure  SkinThickness  Insulin   BMI  \\\n",
       "0            6      148             72             35        0  33.6   \n",
       "1            1       85             66             29        0  26.6   \n",
       "2            8      183             64              0        0  23.3   \n",
       "3            1       89             66             23       94  28.1   \n",
       "4            0      137             40             35      168  43.1   \n",
       "\n",
       "   DiabetesPedigreeFunction  Age  Outcome  \n",
       "0                     0.627   50        1  \n",
       "1                     0.351   31        0  \n",
       "2                     0.672   32        1  \n",
       "3                     0.167   21        0  \n",
       "4                     2.288   33        1  "
      ]
     },
     "execution_count": 1396,
     "metadata": {},
     "output_type": "execute_result"
    }
   ],
   "source": [
    "import pandas as pd\n",
    "import seaborn as sns\n",
    "import matplotlib.pyplot as plt\n",
    "import numpy as np\n",
    "from IPython.display import Image\n",
    "from imblearn.over_sampling import SMOTE\n",
    "\n",
    "df_full = pd.read_csv('diabetes.csv',sep=',')\n",
    "df_full.columns = [\"Pregnancies\",\"Glucose\",\"BloodPressure\",\"SkinThickness\",\"Insulin\",\"BMI\",\"DiabetesPedigreeFunction\",\"Age\",\"Outcome\"]\n",
    "df_y = df_full[\"Outcome\"]\n",
    "# df.head()\n",
    "print(df_full.shape)\n",
    "df_full.head()"
   ]
  },
  {
   "attachments": {},
   "cell_type": "markdown",
   "metadata": {},
   "source": [
    "ชุดข้อมูลนี้มีคนที่เป็นโรคเบาหวาน 500 คน คนที่ไม่เป็นโรคเบาหวาน 268 คน <br>\n",
    "โดยชุดข้อมูลนี้ไม่มี Missing value"
   ]
  },
  {
   "cell_type": "code",
   "execution_count": 1397,
   "metadata": {},
   "outputs": [
    {
     "name": "stdout",
     "output_type": "stream",
     "text": [
      "0    500\n",
      "1    268\n",
      "Name: Outcome, dtype: int64\n",
      "\n",
      "Pregnancies                 0\n",
      "Glucose                     0\n",
      "BloodPressure               0\n",
      "SkinThickness               0\n",
      "Insulin                     0\n",
      "BMI                         0\n",
      "DiabetesPedigreeFunction    0\n",
      "Age                         0\n",
      "Outcome                     0\n",
      "dtype: int64\n",
      "(768, 9)\n"
     ]
    }
   ],
   "source": [
    "print(df_y.value_counts())\n",
    "print(\"\")\n",
    "print(df_full.isnull().sum())\n",
    "print(df_full.shape)"
   ]
  },
  {
   "attachments": {},
   "cell_type": "markdown",
   "metadata": {},
   "source": [
    "Boxplot Data"
   ]
  },
  {
   "cell_type": "code",
   "execution_count": 1398,
   "metadata": {},
   "outputs": [
    {
     "data": {
      "image/png": "[encoded data removed]",
      "text/plain": [
       "<Figure size 1080x4320 with 9 Axes>"
      ]
     },
     "metadata": {},
     "output_type": "display_data"
    }
   ],
   "source": [
    "plt.figure(figsize=(15,60), facecolor='white')\n",
    "plotnumber =1\n",
    "for feature in df_full.columns:\n",
    "    ax = plt.subplot(12,3,plotnumber)\n",
    "    sns.boxplot(y = df_full[feature],whis=1.5)\n",
    "    plt.xlabel(feature)\n",
    "    plotnumber+=1\n",
    "plt.show()"
   ]
  },
  {
   "attachments": {},
   "cell_type": "markdown",
   "metadata": {},
   "source": [
    "Observe\n",
    "- จากภาพพบว่ามี Outlier จำนวนหนึ่งในแต่ละ feature ในส่วนของ feature insulin พบว่ามี outlier ที่มีค่าโดดสูงมาก "
   ]
  },
  {
   "cell_type": "markdown",
   "metadata": {},
   "source": [
    "Pairplot Data"
   ]
  },
  {
   "cell_type": "code",
   "execution_count": 1399,
   "metadata": {},
   "outputs": [
    {
     "data": {
      "text/html": [
       "<img src=\"pic/Pairplot_df_full.png\" width=\"1000\" height=\"1000\"/>"
      ],
      "text/plain": [
       "<IPython.core.display.Image object>"
      ]
     },
     "execution_count": 1399,
     "metadata": {},
     "output_type": "execute_result"
    }
   ],
   "source": [
    "# sns.pairplot(df_full,hue=\"Outcome\")\n",
    "Image(url=\"pic/Pairplot_df_full.png\", width=1000, height=1000)   "
   ]
  },
  {
   "attachments": {},
   "cell_type": "markdown",
   "metadata": {},
   "source": [
    "Observe\n",
    "- จากภาพพบว่า มีการแบ่งกลุ่มที่ชัดเจนใน feature Glucose"
   ]
  },
  {
   "cell_type": "markdown",
   "metadata": {},
   "source": [
    "Plot heatmap numeric"
   ]
  },
  {
   "cell_type": "code",
   "execution_count": 1400,
   "metadata": {},
   "outputs": [
    {
     "data": {
      "text/plain": [
       "<AxesSubplot:>"
      ]
     },
     "execution_count": 1400,
     "metadata": {},
     "output_type": "execute_result"
    },
    {
     "data": {
      "image/png": "[encoded data removed]",
      "text/plain": [
       "<Figure size 720x360 with 2 Axes>"
      ]
     },
     "metadata": {
      "needs_background": "light"
     },
     "output_type": "display_data"
    }
   ],
   "source": [
    "corr = df_full.corr()\n",
    "mask = np.array(corr)\n",
    "# print(corr)\n",
    "mask[np.tril_indices_from(mask)] = False     \n",
    "fig,ax = plt.subplots()\n",
    "fig.set_size_inches(10,5)\n",
    "sns.heatmap(corr,mask= mask,vmax =1,vmin = -1,annot= True,cmap= 'coolwarm')"
   ]
  },
  {
   "attachments": {},
   "cell_type": "markdown",
   "metadata": {},
   "source": [
    "Observe\n",
    "- จากภาพพบว่า feature Glucose มีความสัมพันธ์ในเชิงบวกสูงที่สุด ตามด้วย BMI Age\n",
    "- feature BloodPressure และ SkinThickness มีความสัมพันธ์ที่น้อยกว่า 0.1"
   ]
  },
  {
   "cell_type": "markdown",
   "metadata": {},
   "source": [
    "## Data Preprocessing"
   ]
  },
  {
   "attachments": {},
   "cell_type": "markdown",
   "metadata": {},
   "source": [
    "### Remove Outlier"
   ]
  },
  {
   "cell_type": "code",
   "execution_count": 1401,
   "metadata": {},
   "outputs": [],
   "source": [
    "df_RMout = df_full.copy()"
   ]
  },
  {
   "cell_type": "code",
   "execution_count": 1402,
   "metadata": {},
   "outputs": [],
   "source": [
    "def remove_outlier(col):\n",
    "    sorted(col)\n",
    "    Q1,Q3=np.percentile(col,[25,75])\n",
    "    IQR=Q3-Q1\n",
    "    lower_range= Q1-(1.5 * IQR)\n",
    "    upper_range= Q3+(1.5 * IQR)\n",
    "    return lower_range, upper_range"
   ]
  },
  {
   "cell_type": "code",
   "execution_count": 1403,
   "metadata": {},
   "outputs": [],
   "source": [
    "for i in df_RMout.columns:\n",
    "    lr,ur=remove_outlier(df_RMout[i])\n",
    "    # print(lr,ur)\n",
    "    df_RMout=df_RMout[(df_RMout[i]>(lr)) & (df_RMout[i]<ur)]"
   ]
  },
  {
   "cell_type": "code",
   "execution_count": 1404,
   "metadata": {},
   "outputs": [
    {
     "name": "stdout",
     "output_type": "stream",
     "text": [
      "Original data\n",
      "Rows : 768\n",
      "Columns : 9\n",
      "-------------------------------------------------\n",
      "New data\n",
      "Rows : 636\n",
      "Columns : 9\n"
     ]
    }
   ],
   "source": [
    "dip = df_full.shape\n",
    "print('Original data')\n",
    "print('Rows : ' + str(dip[0]))\n",
    "print('Columns : ' + str(dip[1]))\n",
    "print('-------------------------------------------------')\n",
    "dip = df_RMout.shape\n",
    "print('New data')\n",
    "print('Rows : ' + str(dip[0]))\n",
    "print('Columns : ' + str(dip[1]))"
   ]
  },
  {
   "attachments": {},
   "cell_type": "markdown",
   "metadata": {},
   "source": [
    "Observe\n",
    "- จากภาพพบว่า หลังจาก Remove outlier ข้อมูลถูกตัดไป 132 ตัวเหลือ 636 ตัว"
   ]
  },
  {
   "attachments": {},
   "cell_type": "markdown",
   "metadata": {},
   "source": [
    "Boxplot After remove outlier"
   ]
  },
  {
   "cell_type": "code",
   "execution_count": 1405,
   "metadata": {},
   "outputs": [
    {
     "data": {
      "image/png": "[encoded data removed]",
      "text/plain": [
       "<Figure size 720x2880 with 9 Axes>"
      ]
     },
     "metadata": {},
     "output_type": "display_data"
    },
    {
     "data": {
      "image/png": "[encoded data removed]",
      "text/plain": [
       "<Figure size 720x2880 with 9 Axes>"
      ]
     },
     "metadata": {},
     "output_type": "display_data"
    }
   ],
   "source": [
    "\n",
    "plt.figure(figsize=(10,40), facecolor='white')\n",
    "plotnumber =1\n",
    "for feature in df_full.columns:\n",
    "    ax = plt.subplot(12,3,plotnumber)\n",
    "    sns.boxplot(y = df_full[feature],whis=1.5)\n",
    "    plt.xlabel(feature)\n",
    "    plotnumber+=1\n",
    "\n",
    "\n",
    "plt.figure(figsize=(10,40), facecolor='white')\n",
    "plotnumber =1\n",
    "for feature in df_RMout.columns:\n",
    "    ax = plt.subplot(12,3,plotnumber)\n",
    "    sns.boxplot(y = df_RMout[feature],whis=1.5)\n",
    "    plt.xlabel(feature)\n",
    "    plotnumber+=1\n",
    "plt.show()"
   ]
  },
  {
   "attachments": {},
   "cell_type": "markdown",
   "metadata": {},
   "source": [
    "### Feature Selection "
   ]
  },
  {
   "attachments": {},
   "cell_type": "markdown",
   "metadata": {},
   "source": [
    "ตัด feature ที่ค่าความสัมพันธ์กับ class target หรือ outcome น้อยกว่า 0.1"
   ]
  },
  {
   "cell_type": "code",
   "execution_count": 1406,
   "metadata": {},
   "outputs": [
    {
     "name": "stdout",
     "output_type": "stream",
     "text": [
      "(636, 7)\n",
      "Index(['Pregnancies', 'Glucose', 'Insulin', 'BMI', 'DiabetesPedigreeFunction',\n",
      "       'Age', 'Outcome'],\n",
      "      dtype='object')\n",
      "7\n"
     ]
    }
   ],
   "source": [
    "df_Cut = df_RMout.drop([\n",
    "    'BloodPressure',\n",
    "    'SkinThickness'],axis = 1)\n",
    "print(df_Cut.shape)\n",
    "print(df_Cut.columns)\n",
    "print(len(df_Cut.columns))"
   ]
  },
  {
   "attachments": {},
   "cell_type": "markdown",
   "metadata": {},
   "source": [
    "### Smote Data"
   ]
  },
  {
   "cell_type": "code",
   "execution_count": 1407,
   "metadata": {},
   "outputs": [
    {
     "name": "stdout",
     "output_type": "stream",
     "text": [
      "(876, 7)\n",
      "1    438\n",
      "0    438\n",
      "Name: Outcome, dtype: int64\n"
     ]
    }
   ],
   "source": [
    "df_y = df_Cut['Outcome']\n",
    "df = df_Cut.drop(['Outcome'],axis= 1)\n",
    "oversample = SMOTE()\n",
    "df, df_y = oversample.fit_resample(df, df_y)\n",
    "df_Smote = df.join([df_y])\n",
    "print(df_Smote.shape)\n",
    "print(df_y.value_counts())"
   ]
  },
  {
   "attachments": {},
   "cell_type": "markdown",
   "metadata": {},
   "source": [
    "### PCA"
   ]
  },
  {
   "cell_type": "code",
   "execution_count": 1408,
   "metadata": {},
   "outputs": [],
   "source": [
    "from sklearn.decomposition import PCA\n",
    "def Pca_select(Data,name):\n",
    "    pca = PCA(n_components = len(Data.columns))           # Create PCA transformer\n",
    "    x_pca = pca.fit_transform(Data)   \n",
    "    a = len(Data.columns)\n",
    "    plt.figure(figsize=(40,3))\n",
    "    plt.title(name)\n",
    "    for i in range(a):\n",
    "        # print(str(pca.explained_variance_ratio_[i])+\" : \"+str(df_full.columns[i]))\n",
    "        plt.subplot(111)\n",
    "        plt.scatter(str(i+1),pca.explained_variance_ratio_[i],color='green',marker = 'o',label='No fires')\n",
    "        plt.xlabel('number of components')\n",
    "        plt.ylabel('cumulative explained variance')\n",
    "    plt.show()"
   ]
  },
  {
   "cell_type": "code",
   "execution_count": 1409,
   "metadata": {},
   "outputs": [
    {
     "data": {
      "image/png": "[encoded data removed]",
      "text/plain": [
       "<Figure size 2880x216 with 1 Axes>"
      ]
     },
     "metadata": {
      "needs_background": "light"
     },
     "output_type": "display_data"
    }
   ],
   "source": [
    "df_y = df_full['Outcome']\n",
    "df_PCA = df_full.drop(['Outcome'],axis=1)\n",
    "Pca_select(df_PCA,'df_full')"
   ]
  },
  {
   "attachments": {},
   "cell_type": "markdown",
   "metadata": {},
   "source": [
    "จากภาพจากทำ PCA ทำให้เลือก components เท่ากับ 3\n"
   ]
  },
  {
   "cell_type": "code",
   "execution_count": 1410,
   "metadata": {},
   "outputs": [
    {
     "data": {
      "text/html": [
       "<div>\n",
       "<style scoped>\n",
       "    .dataframe tbody tr th:only-of-type {\n",
       "        vertical-align: middle;\n",
       "    }\n",
       "\n",
       "    .dataframe tbody tr th {\n",
       "        vertical-align: top;\n",
       "    }\n",
       "\n",
       "    .dataframe thead th {\n",
       "        text-align: right;\n",
       "    }\n",
       "</style>\n",
       "<table border=\"1\" class=\"dataframe\">\n",
       "  <thead>\n",
       "    <tr style=\"text-align: right;\">\n",
       "      <th></th>\n",
       "      <th>one</th>\n",
       "      <th>two</th>\n",
       "      <th>three</th>\n",
       "      <th>Outcome</th>\n",
       "    </tr>\n",
       "  </thead>\n",
       "  <tbody>\n",
       "    <tr>\n",
       "      <th>0</th>\n",
       "      <td>-75.714655</td>\n",
       "      <td>-35.950783</td>\n",
       "      <td>-7.260789</td>\n",
       "      <td>1</td>\n",
       "    </tr>\n",
       "    <tr>\n",
       "      <th>1</th>\n",
       "      <td>-82.358268</td>\n",
       "      <td>28.908213</td>\n",
       "      <td>-5.496671</td>\n",
       "      <td>0</td>\n",
       "    </tr>\n",
       "    <tr>\n",
       "      <th>2</th>\n",
       "      <td>-74.630643</td>\n",
       "      <td>-67.906496</td>\n",
       "      <td>19.461808</td>\n",
       "      <td>1</td>\n",
       "    </tr>\n",
       "    <tr>\n",
       "      <th>3</th>\n",
       "      <td>11.077423</td>\n",
       "      <td>34.898486</td>\n",
       "      <td>-0.053018</td>\n",
       "      <td>0</td>\n",
       "    </tr>\n",
       "    <tr>\n",
       "      <th>4</th>\n",
       "      <td>89.743788</td>\n",
       "      <td>-2.746937</td>\n",
       "      <td>25.212859</td>\n",
       "      <td>1</td>\n",
       "    </tr>\n",
       "  </tbody>\n",
       "</table>\n",
       "</div>"
      ],
      "text/plain": [
       "         one        two      three  Outcome\n",
       "0 -75.714655 -35.950783  -7.260789        1\n",
       "1 -82.358268  28.908213  -5.496671        0\n",
       "2 -74.630643 -67.906496  19.461808        1\n",
       "3  11.077423  34.898486  -0.053018        0\n",
       "4  89.743788  -2.746937  25.212859        1"
      ]
     },
     "execution_count": 1410,
     "metadata": {},
     "output_type": "execute_result"
    }
   ],
   "source": [
    "pca = PCA(n_components = 3)\n",
    "df_PCA = pca.fit_transform(df_PCA)\n",
    "df_PCA  = pd.DataFrame(df_PCA)\n",
    "df_PCA = df_PCA.join([df_y])\n",
    "df_PCA.columns = [\"one\",\"two\",\"three\",\"Outcome\"]\n",
    "df_PCA.head() "
   ]
  },
  {
   "attachments": {},
   "cell_type": "markdown",
   "metadata": {},
   "source": [
    "### MinMaxScaler df_RMout"
   ]
  },
  {
   "cell_type": "code",
   "execution_count": 1411,
   "metadata": {},
   "outputs": [],
   "source": [
    "from sklearn.preprocessing import MinMaxScaler, OrdinalEncoder, OneHotEncoder, QuantileTransformer\n",
    "def MinMax_Data(data):\n",
    "    scaler = MinMaxScaler()\n",
    "    MinMax = scaler.fit_transform(data)\n",
    "    # print(X)\n",
    "    data = pd.DataFrame(MinMax,columns= list(data.columns))\n",
    "    return data"
   ]
  },
  {
   "attachments": {},
   "cell_type": "markdown",
   "metadata": {},
   "source": [
    "### Train_Test_Split "
   ]
  },
  {
   "cell_type": "code",
   "execution_count": 1412,
   "metadata": {},
   "outputs": [],
   "source": [
    "from sklearn.model_selection import train_test_split\n",
    "def Split_Data(data):\n",
    "    df_y = data['Outcome']\n",
    "    df = data.drop(['Outcome'],axis = 1)\n",
    "    X_train, X_test, y_train, y_test = train_test_split(df,df_y,test_size = 0.5,random_state = 25)\n",
    "    return X_train, X_test, y_train, y_test"
   ]
  },
  {
   "attachments": {},
   "cell_type": "markdown",
   "metadata": {},
   "source": [
    "## Model Building & Model Training"
   ]
  },
  {
   "attachments": {},
   "cell_type": "markdown",
   "metadata": {},
   "source": [
    "### DecisionTree"
   ]
  },
  {
   "cell_type": "code",
   "execution_count": 1413,
   "metadata": {},
   "outputs": [
    {
     "data": {
      "text/plain": [
       "DecisionTreeClassifier(criterion='entropy', max_depth=10, random_state=25)"
      ]
     },
     "execution_count": 1413,
     "metadata": {},
     "output_type": "execute_result"
    }
   ],
   "source": [
    "from sklearn.tree import DecisionTreeClassifier\n",
    "model_DecisionTree = DecisionTreeClassifier(criterion='entropy',max_depth= 10,random_state= 25)\n",
    "model_DecisionTree \n"
   ]
  },
  {
   "cell_type": "code",
   "execution_count": 1414,
   "metadata": {},
   "outputs": [],
   "source": [
    "def Decision_Data(data):    \n",
    "    data = MinMax_Data(data)\n",
    "    print(data.shape)\n",
    "    X_train, X_test, y_train, y_test = Split_Data(data)\n",
    "    # train model\n",
    "    model_DecisionTree.fit(X_train, y_train)\n",
    "    # predict model train\n",
    "    y_pred = model_DecisionTree.predict(X_train)\n",
    "\n",
    "    # Classification report\n",
    "    from sklearn.metrics import classification_report,confusion_matrix\n",
    "    print(\"Classification report \\n=======================\")\n",
    "    print(classification_report(y_true=y_train, y_pred=y_pred))\n",
    "    print(\"Confusion matrix \\n=======================\")\n",
    "    print(confusion_matrix(y_true=y_train, y_pred=y_pred))\n",
    "    # predict model test\n",
    "    y_pred = model_DecisionTree.predict(X_test)\n",
    "    # predict model train\n",
    "    print(\"Classification report \\n=======================\")\n",
    "    print(classification_report(y_true=y_test, y_pred=y_pred))\n",
    "    print(\"Confusion matrix \\n=======================\")\n",
    "    print(confusion_matrix(y_true=y_test, y_pred=y_pred))"
   ]
  },
  {
   "attachments": {},
   "cell_type": "markdown",
   "metadata": {},
   "source": [
    "- df_full"
   ]
  },
  {
   "cell_type": "code",
   "execution_count": 1415,
   "metadata": {},
   "outputs": [
    {
     "name": "stdout",
     "output_type": "stream",
     "text": [
      "(768, 9)\n",
      "Classification report \n",
      "=======================\n",
      "              precision    recall  f1-score   support\n",
      "\n",
      "         0.0       0.98      0.99      0.98       247\n",
      "         1.0       0.98      0.96      0.97       137\n",
      "\n",
      "    accuracy                           0.98       384\n",
      "   macro avg       0.98      0.97      0.97       384\n",
      "weighted avg       0.98      0.98      0.98       384\n",
      "\n",
      "Confusion matrix \n",
      "=======================\n",
      "[[244   3]\n",
      " [  6 131]]\n",
      "Classification report \n",
      "=======================\n",
      "              precision    recall  f1-score   support\n",
      "\n",
      "         0.0       0.76      0.81      0.78       253\n",
      "         1.0       0.58      0.50      0.53       131\n",
      "\n",
      "    accuracy                           0.70       384\n",
      "   macro avg       0.67      0.65      0.66       384\n",
      "weighted avg       0.69      0.70      0.70       384\n",
      "\n",
      "Confusion matrix \n",
      "=======================\n",
      "[[205  48]\n",
      " [ 66  65]]\n"
     ]
    }
   ],
   "source": [
    "Decision_Data(df_full)"
   ]
  },
  {
   "attachments": {},
   "cell_type": "markdown",
   "metadata": {},
   "source": [
    "- df_RMout"
   ]
  },
  {
   "cell_type": "code",
   "execution_count": 1416,
   "metadata": {},
   "outputs": [
    {
     "name": "stdout",
     "output_type": "stream",
     "text": [
      "(636, 9)\n",
      "Classification report \n",
      "=======================\n",
      "              precision    recall  f1-score   support\n",
      "\n",
      "         0.0       0.99      1.00      0.99       216\n",
      "         1.0       0.99      0.97      0.98       102\n",
      "\n",
      "    accuracy                           0.99       318\n",
      "   macro avg       0.99      0.98      0.99       318\n",
      "weighted avg       0.99      0.99      0.99       318\n",
      "\n",
      "Confusion matrix \n",
      "=======================\n",
      "[[215   1]\n",
      " [  3  99]]\n",
      "Classification report \n",
      "=======================\n",
      "              precision    recall  f1-score   support\n",
      "\n",
      "         0.0       0.80      0.85      0.82       222\n",
      "         1.0       0.59      0.50      0.54        96\n",
      "\n",
      "    accuracy                           0.74       318\n",
      "   macro avg       0.69      0.67      0.68       318\n",
      "weighted avg       0.73      0.74      0.74       318\n",
      "\n",
      "Confusion matrix \n",
      "=======================\n",
      "[[188  34]\n",
      " [ 48  48]]\n"
     ]
    }
   ],
   "source": [
    "Decision_Data(df_RMout)"
   ]
  },
  {
   "attachments": {},
   "cell_type": "markdown",
   "metadata": {},
   "source": [
    "- df_Cut"
   ]
  },
  {
   "cell_type": "code",
   "execution_count": 1417,
   "metadata": {},
   "outputs": [
    {
     "name": "stdout",
     "output_type": "stream",
     "text": [
      "(636, 7)\n",
      "Classification report \n",
      "=======================\n",
      "              precision    recall  f1-score   support\n",
      "\n",
      "         0.0       1.00      0.97      0.98       216\n",
      "         1.0       0.94      0.99      0.96       102\n",
      "\n",
      "    accuracy                           0.97       318\n",
      "   macro avg       0.97      0.98      0.97       318\n",
      "weighted avg       0.98      0.97      0.98       318\n",
      "\n",
      "Confusion matrix \n",
      "=======================\n",
      "[[209   7]\n",
      " [  1 101]]\n",
      "Classification report \n",
      "=======================\n",
      "              precision    recall  f1-score   support\n",
      "\n",
      "         0.0       0.83      0.79      0.81       222\n",
      "         1.0       0.57      0.62      0.59        96\n",
      "\n",
      "    accuracy                           0.74       318\n",
      "   macro avg       0.70      0.71      0.70       318\n",
      "weighted avg       0.75      0.74      0.75       318\n",
      "\n",
      "Confusion matrix \n",
      "=======================\n",
      "[[176  46]\n",
      " [ 36  60]]\n"
     ]
    }
   ],
   "source": [
    "Decision_Data(df_Cut)"
   ]
  },
  {
   "attachments": {},
   "cell_type": "markdown",
   "metadata": {},
   "source": [
    "- df_Smote"
   ]
  },
  {
   "cell_type": "code",
   "execution_count": 1418,
   "metadata": {},
   "outputs": [
    {
     "name": "stdout",
     "output_type": "stream",
     "text": [
      "(876, 7)\n",
      "Classification report \n",
      "=======================\n",
      "              precision    recall  f1-score   support\n",
      "\n",
      "         0.0       1.00      0.94      0.97       218\n",
      "         1.0       0.95      1.00      0.97       220\n",
      "\n",
      "    accuracy                           0.97       438\n",
      "   macro avg       0.97      0.97      0.97       438\n",
      "weighted avg       0.97      0.97      0.97       438\n",
      "\n",
      "Confusion matrix \n",
      "=======================\n",
      "[[206  12]\n",
      " [  0 220]]\n",
      "Classification report \n",
      "=======================\n",
      "              precision    recall  f1-score   support\n",
      "\n",
      "         0.0       0.74      0.77      0.75       220\n",
      "         1.0       0.76      0.72      0.74       218\n",
      "\n",
      "    accuracy                           0.75       438\n",
      "   macro avg       0.75      0.75      0.75       438\n",
      "weighted avg       0.75      0.75      0.75       438\n",
      "\n",
      "Confusion matrix \n",
      "=======================\n",
      "[[169  51]\n",
      " [ 60 158]]\n"
     ]
    }
   ],
   "source": [
    "Decision_Data(df_Smote)"
   ]
  },
  {
   "attachments": {},
   "cell_type": "markdown",
   "metadata": {},
   "source": [
    "- df_PCA"
   ]
  },
  {
   "cell_type": "code",
   "execution_count": 1419,
   "metadata": {},
   "outputs": [
    {
     "name": "stdout",
     "output_type": "stream",
     "text": [
      "(768, 4)\n",
      "Classification report \n",
      "=======================\n",
      "              precision    recall  f1-score   support\n",
      "\n",
      "         0.0       0.96      0.98      0.97       247\n",
      "         1.0       0.95      0.92      0.94       137\n",
      "\n",
      "    accuracy                           0.96       384\n",
      "   macro avg       0.96      0.95      0.95       384\n",
      "weighted avg       0.96      0.96      0.96       384\n",
      "\n",
      "Confusion matrix \n",
      "=======================\n",
      "[[241   6]\n",
      " [ 11 126]]\n",
      "Classification report \n",
      "=======================\n",
      "              precision    recall  f1-score   support\n",
      "\n",
      "         0.0       0.73      0.78      0.75       253\n",
      "         1.0       0.51      0.44      0.47       131\n",
      "\n",
      "    accuracy                           0.66       384\n",
      "   macro avg       0.62      0.61      0.61       384\n",
      "weighted avg       0.65      0.66      0.66       384\n",
      "\n",
      "Confusion matrix \n",
      "=======================\n",
      "[[198  55]\n",
      " [ 74  57]]\n"
     ]
    }
   ],
   "source": [
    "Decision_Data(df_PCA)"
   ]
  },
  {
   "attachments": {},
   "cell_type": "markdown",
   "metadata": {},
   "source": [
    "### LogisticRegression"
   ]
  },
  {
   "cell_type": "code",
   "execution_count": 1420,
   "metadata": {},
   "outputs": [],
   "source": [
    "from sklearn.linear_model import LogisticRegression\n",
    "def Logistic_Data(data):\n",
    "    data = MinMax_Data(data)\n",
    "    print(data.shape)\n",
    "    X_train, X_test, y_train, y_test = Split_Data(data)\n",
    "    model_logistic_all = LogisticRegression()\n",
    "    model_logistic_all.fit(X_train,y_train)\n",
    "    y_pred = model_logistic_all.predict(X_train)\n",
    "\n",
    "    # Classification report\n",
    "    from sklearn.metrics import classification_report,confusion_matrix\n",
    "    print(\"Classification report \\n=======================\")\n",
    "    print(classification_report(y_true=y_train, y_pred=y_pred))\n",
    "    print(\"Confusion matrix \\n=======================\")\n",
    "    print(confusion_matrix(y_true=y_train, y_pred=y_pred))\n",
    "    # predict model test\n",
    "    y_pred = model_logistic_all.predict(X_test)\n",
    "    # predict model train\n",
    "    print(\"Classification report \\n=======================\")\n",
    "    print(classification_report(y_true=y_test, y_pred=y_pred))\n",
    "    print(\"Confusion matrix \\n=======================\")\n",
    "    print(confusion_matrix(y_true=y_test, y_pred=y_pred))"
   ]
  },
  {
   "attachments": {},
   "cell_type": "markdown",
   "metadata": {},
   "source": [
    "- df_full"
   ]
  },
  {
   "cell_type": "code",
   "execution_count": 1421,
   "metadata": {},
   "outputs": [
    {
     "name": "stdout",
     "output_type": "stream",
     "text": [
      "(768, 9)\n",
      "Classification report \n",
      "=======================\n",
      "              precision    recall  f1-score   support\n",
      "\n",
      "         0.0       0.76      0.92      0.83       247\n",
      "         1.0       0.76      0.47      0.59       137\n",
      "\n",
      "    accuracy                           0.76       384\n",
      "   macro avg       0.76      0.70      0.71       384\n",
      "weighted avg       0.76      0.76      0.74       384\n",
      "\n",
      "Confusion matrix \n",
      "=======================\n",
      "[[227  20]\n",
      " [ 72  65]]\n",
      "Classification report \n",
      "=======================\n",
      "              precision    recall  f1-score   support\n",
      "\n",
      "         0.0       0.80      0.92      0.85       253\n",
      "         1.0       0.78      0.56      0.65       131\n",
      "\n",
      "    accuracy                           0.79       384\n",
      "   macro avg       0.79      0.74      0.75       384\n",
      "weighted avg       0.79      0.79      0.78       384\n",
      "\n",
      "Confusion matrix \n",
      "=======================\n",
      "[[232  21]\n",
      " [ 58  73]]\n"
     ]
    }
   ],
   "source": [
    "Logistic_Data(df_full)"
   ]
  },
  {
   "attachments": {},
   "cell_type": "markdown",
   "metadata": {},
   "source": [
    "- df_RMout"
   ]
  },
  {
   "cell_type": "code",
   "execution_count": 1422,
   "metadata": {},
   "outputs": [
    {
     "name": "stdout",
     "output_type": "stream",
     "text": [
      "(636, 9)\n",
      "Classification report \n",
      "=======================\n",
      "              precision    recall  f1-score   support\n",
      "\n",
      "         0.0       0.81      0.93      0.86       216\n",
      "         1.0       0.77      0.54      0.64       102\n",
      "\n",
      "    accuracy                           0.80       318\n",
      "   macro avg       0.79      0.73      0.75       318\n",
      "weighted avg       0.80      0.80      0.79       318\n",
      "\n",
      "Confusion matrix \n",
      "=======================\n",
      "[[200  16]\n",
      " [ 47  55]]\n",
      "Classification report \n",
      "=======================\n",
      "              precision    recall  f1-score   support\n",
      "\n",
      "         0.0       0.79      0.92      0.85       222\n",
      "         1.0       0.71      0.43      0.53        96\n",
      "\n",
      "    accuracy                           0.77       318\n",
      "   macro avg       0.75      0.68      0.69       318\n",
      "weighted avg       0.76      0.77      0.75       318\n",
      "\n",
      "Confusion matrix \n",
      "=======================\n",
      "[[205  17]\n",
      " [ 55  41]]\n"
     ]
    }
   ],
   "source": [
    "Logistic_Data(df_RMout)"
   ]
  },
  {
   "attachments": {},
   "cell_type": "markdown",
   "metadata": {},
   "source": [
    "- df_Cut"
   ]
  },
  {
   "cell_type": "code",
   "execution_count": 1423,
   "metadata": {},
   "outputs": [
    {
     "name": "stdout",
     "output_type": "stream",
     "text": [
      "(636, 7)\n",
      "Classification report \n",
      "=======================\n",
      "              precision    recall  f1-score   support\n",
      "\n",
      "         0.0       0.81      0.92      0.86       216\n",
      "         1.0       0.76      0.54      0.63       102\n",
      "\n",
      "    accuracy                           0.80       318\n",
      "   macro avg       0.79      0.73      0.75       318\n",
      "weighted avg       0.79      0.80      0.79       318\n",
      "\n",
      "Confusion matrix \n",
      "=======================\n",
      "[[199  17]\n",
      " [ 47  55]]\n",
      "Classification report \n",
      "=======================\n",
      "              precision    recall  f1-score   support\n",
      "\n",
      "         0.0       0.79      0.93      0.86       222\n",
      "         1.0       0.73      0.43      0.54        96\n",
      "\n",
      "    accuracy                           0.78       318\n",
      "   macro avg       0.76      0.68      0.70       318\n",
      "weighted avg       0.77      0.78      0.76       318\n",
      "\n",
      "Confusion matrix \n",
      "=======================\n",
      "[[207  15]\n",
      " [ 55  41]]\n"
     ]
    }
   ],
   "source": [
    "Logistic_Data(df_Cut)"
   ]
  },
  {
   "attachments": {},
   "cell_type": "markdown",
   "metadata": {},
   "source": [
    "- df_Smote"
   ]
  },
  {
   "cell_type": "code",
   "execution_count": 1424,
   "metadata": {},
   "outputs": [
    {
     "name": "stdout",
     "output_type": "stream",
     "text": [
      "(876, 7)\n",
      "Classification report \n",
      "=======================\n",
      "              precision    recall  f1-score   support\n",
      "\n",
      "         0.0       0.73      0.77      0.75       218\n",
      "         1.0       0.76      0.72      0.74       220\n",
      "\n",
      "    accuracy                           0.75       438\n",
      "   macro avg       0.75      0.75      0.75       438\n",
      "weighted avg       0.75      0.75      0.75       438\n",
      "\n",
      "Confusion matrix \n",
      "=======================\n",
      "[[168  50]\n",
      " [ 61 159]]\n",
      "Classification report \n",
      "=======================\n",
      "              precision    recall  f1-score   support\n",
      "\n",
      "         0.0       0.73      0.77      0.75       220\n",
      "         1.0       0.75      0.71      0.73       218\n",
      "\n",
      "    accuracy                           0.74       438\n",
      "   macro avg       0.74      0.74      0.74       438\n",
      "weighted avg       0.74      0.74      0.74       438\n",
      "\n",
      "Confusion matrix \n",
      "=======================\n",
      "[[169  51]\n",
      " [ 63 155]]\n"
     ]
    }
   ],
   "source": [
    "Logistic_Data(df_Smote)"
   ]
  },
  {
   "attachments": {},
   "cell_type": "markdown",
   "metadata": {},
   "source": [
    "- df_PCA"
   ]
  },
  {
   "cell_type": "code",
   "execution_count": 1425,
   "metadata": {},
   "outputs": [
    {
     "name": "stdout",
     "output_type": "stream",
     "text": [
      "(768, 4)\n",
      "Classification report \n",
      "=======================\n",
      "              precision    recall  f1-score   support\n",
      "\n",
      "         0.0       0.74      0.94      0.83       247\n",
      "         1.0       0.79      0.40      0.53       137\n",
      "\n",
      "    accuracy                           0.75       384\n",
      "   macro avg       0.76      0.67      0.68       384\n",
      "weighted avg       0.76      0.75      0.72       384\n",
      "\n",
      "Confusion matrix \n",
      "=======================\n",
      "[[232  15]\n",
      " [ 82  55]]\n",
      "Classification report \n",
      "=======================\n",
      "              precision    recall  f1-score   support\n",
      "\n",
      "         0.0       0.75      0.94      0.83       253\n",
      "         1.0       0.78      0.38      0.51       131\n",
      "\n",
      "    accuracy                           0.75       384\n",
      "   macro avg       0.76      0.66      0.67       384\n",
      "weighted avg       0.76      0.75      0.72       384\n",
      "\n",
      "Confusion matrix \n",
      "=======================\n",
      "[[239  14]\n",
      " [ 81  50]]\n"
     ]
    }
   ],
   "source": [
    "Logistic_Data(df_PCA)"
   ]
  },
  {
   "attachments": {},
   "cell_type": "markdown",
   "metadata": {},
   "source": [
    "### K_Nearest_Neighbor"
   ]
  },
  {
   "cell_type": "code",
   "execution_count": 1426,
   "metadata": {},
   "outputs": [],
   "source": [
    "#import machine learning library\n",
    "from sklearn.neighbors import KNeighborsClassifier\n",
    "def K_Nearest_Data(data):\n",
    "    data = MinMax_Data(data)\n",
    "    print(data.shape)\n",
    "    X_train, X_test, y_train, y_test = Split_Data(data)\n",
    "    knn = KNeighborsClassifier(n_neighbors=3)\n",
    "    model_knn = knn.fit(X_train, y_train)\n",
    "    # predict model train\n",
    "    y_pred = model_knn.predict(X_train)\n",
    "    from sklearn.metrics import classification_report,confusion_matrix\n",
    "    # Classification report\n",
    "    print(\"Classification report \\n=======================\")\n",
    "    print(classification_report(y_true=y_train, y_pred=y_pred))\n",
    "    print(\"Confusion matrix \\n=======================\")\n",
    "    print(confusion_matrix(y_true=y_train, y_pred=y_pred))\n",
    "\n",
    "    # predict model test\n",
    "    y_pred = model_knn.predict(X_test)\n",
    "    # Classification report\n",
    "    print(\"Classification report \\n=======================\")\n",
    "    print(classification_report(y_true=y_test, y_pred=y_pred))\n",
    "    print(\"Confusion matrix \\n=======================\")\n",
    "    print(confusion_matrix(y_true=y_test, y_pred=y_pred))"
   ]
  },
  {
   "attachments": {},
   "cell_type": "markdown",
   "metadata": {},
   "source": [
    "- df_full"
   ]
  },
  {
   "cell_type": "code",
   "execution_count": 1427,
   "metadata": {},
   "outputs": [
    {
     "name": "stdout",
     "output_type": "stream",
     "text": [
      "(768, 9)\n",
      "Classification report \n",
      "=======================\n",
      "              precision    recall  f1-score   support\n",
      "\n",
      "         0.0       0.86      0.91      0.88       247\n",
      "         1.0       0.82      0.72      0.77       137\n",
      "\n",
      "    accuracy                           0.85       384\n",
      "   macro avg       0.84      0.82      0.83       384\n",
      "weighted avg       0.84      0.85      0.84       384\n",
      "\n",
      "Confusion matrix \n",
      "=======================\n",
      "[[226  21]\n",
      " [ 38  99]]\n",
      "Classification report \n",
      "=======================\n",
      "              precision    recall  f1-score   support\n",
      "\n",
      "         0.0       0.76      0.83      0.79       253\n",
      "         1.0       0.59      0.49      0.54       131\n",
      "\n",
      "    accuracy                           0.71       384\n",
      "   macro avg       0.67      0.66      0.66       384\n",
      "weighted avg       0.70      0.71      0.70       384\n",
      "\n",
      "Confusion matrix \n",
      "=======================\n",
      "[[209  44]\n",
      " [ 67  64]]\n"
     ]
    }
   ],
   "source": [
    "K_Nearest_Data(df_full)"
   ]
  },
  {
   "attachments": {},
   "cell_type": "markdown",
   "metadata": {},
   "source": [
    "- df_RMout"
   ]
  },
  {
   "cell_type": "code",
   "execution_count": 1428,
   "metadata": {},
   "outputs": [
    {
     "name": "stdout",
     "output_type": "stream",
     "text": [
      "(636, 9)\n",
      "Classification report \n",
      "=======================\n",
      "              precision    recall  f1-score   support\n",
      "\n",
      "         0.0       0.87      0.92      0.90       216\n",
      "         1.0       0.81      0.72      0.76       102\n",
      "\n",
      "    accuracy                           0.86       318\n",
      "   macro avg       0.84      0.82      0.83       318\n",
      "weighted avg       0.85      0.86      0.85       318\n",
      "\n",
      "Confusion matrix \n",
      "=======================\n",
      "[[199  17]\n",
      " [ 29  73]]\n",
      "Classification report \n",
      "=======================\n",
      "              precision    recall  f1-score   support\n",
      "\n",
      "         0.0       0.79      0.86      0.82       222\n",
      "         1.0       0.58      0.46      0.51        96\n",
      "\n",
      "    accuracy                           0.74       318\n",
      "   macro avg       0.68      0.66      0.67       318\n",
      "weighted avg       0.72      0.74      0.73       318\n",
      "\n",
      "Confusion matrix \n",
      "=======================\n",
      "[[190  32]\n",
      " [ 52  44]]\n"
     ]
    }
   ],
   "source": [
    "K_Nearest_Data(df_RMout)"
   ]
  },
  {
   "attachments": {},
   "cell_type": "markdown",
   "metadata": {},
   "source": [
    "- df_Cut"
   ]
  },
  {
   "cell_type": "code",
   "execution_count": 1429,
   "metadata": {},
   "outputs": [
    {
     "name": "stdout",
     "output_type": "stream",
     "text": [
      "(636, 7)\n",
      "Classification report \n",
      "=======================\n",
      "              precision    recall  f1-score   support\n",
      "\n",
      "         0.0       0.89      0.90      0.89       216\n",
      "         1.0       0.78      0.76      0.77       102\n",
      "\n",
      "    accuracy                           0.86       318\n",
      "   macro avg       0.83      0.83      0.83       318\n",
      "weighted avg       0.85      0.86      0.85       318\n",
      "\n",
      "Confusion matrix \n",
      "=======================\n",
      "[[194  22]\n",
      " [ 24  78]]\n",
      "Classification report \n",
      "=======================\n",
      "              precision    recall  f1-score   support\n",
      "\n",
      "         0.0       0.80      0.83      0.82       222\n",
      "         1.0       0.57      0.52      0.55        96\n",
      "\n",
      "    accuracy                           0.74       318\n",
      "   macro avg       0.69      0.68      0.68       318\n",
      "weighted avg       0.73      0.74      0.74       318\n",
      "\n",
      "Confusion matrix \n",
      "=======================\n",
      "[[185  37]\n",
      " [ 46  50]]\n"
     ]
    }
   ],
   "source": [
    "K_Nearest_Data(df_Cut)"
   ]
  },
  {
   "attachments": {},
   "cell_type": "markdown",
   "metadata": {},
   "source": [
    "- df_Smote"
   ]
  },
  {
   "cell_type": "code",
   "execution_count": 1430,
   "metadata": {},
   "outputs": [
    {
     "name": "stdout",
     "output_type": "stream",
     "text": [
      "(876, 7)\n",
      "Classification report \n",
      "=======================\n",
      "              precision    recall  f1-score   support\n",
      "\n",
      "         0.0       0.91      0.83      0.87       218\n",
      "         1.0       0.84      0.92      0.88       220\n",
      "\n",
      "    accuracy                           0.87       438\n",
      "   macro avg       0.88      0.87      0.87       438\n",
      "weighted avg       0.88      0.87      0.87       438\n",
      "\n",
      "Confusion matrix \n",
      "=======================\n",
      "[[180  38]\n",
      " [ 18 202]]\n",
      "Classification report \n",
      "=======================\n",
      "              precision    recall  f1-score   support\n",
      "\n",
      "         0.0       0.79      0.76      0.78       220\n",
      "         1.0       0.77      0.80      0.78       218\n",
      "\n",
      "    accuracy                           0.78       438\n",
      "   macro avg       0.78      0.78      0.78       438\n",
      "weighted avg       0.78      0.78      0.78       438\n",
      "\n",
      "Confusion matrix \n",
      "=======================\n",
      "[[168  52]\n",
      " [ 44 174]]\n"
     ]
    }
   ],
   "source": [
    "K_Nearest_Data(df_Smote)"
   ]
  },
  {
   "attachments": {},
   "cell_type": "markdown",
   "metadata": {},
   "source": [
    "- df_PCA"
   ]
  },
  {
   "cell_type": "code",
   "execution_count": 1431,
   "metadata": {},
   "outputs": [
    {
     "name": "stdout",
     "output_type": "stream",
     "text": [
      "(768, 4)\n",
      "Classification report \n",
      "=======================\n",
      "              precision    recall  f1-score   support\n",
      "\n",
      "         0.0       0.84      0.89      0.86       247\n",
      "         1.0       0.78      0.69      0.73       137\n",
      "\n",
      "    accuracy                           0.82       384\n",
      "   macro avg       0.81      0.79      0.80       384\n",
      "weighted avg       0.82      0.82      0.82       384\n",
      "\n",
      "Confusion matrix \n",
      "=======================\n",
      "[[221  26]\n",
      " [ 43  94]]\n",
      "Classification report \n",
      "=======================\n",
      "              precision    recall  f1-score   support\n",
      "\n",
      "         0.0       0.76      0.80      0.78       253\n",
      "         1.0       0.57      0.51      0.54       131\n",
      "\n",
      "    accuracy                           0.70       384\n",
      "   macro avg       0.66      0.65      0.66       384\n",
      "weighted avg       0.69      0.70      0.70       384\n",
      "\n",
      "Confusion matrix \n",
      "=======================\n",
      "[[202  51]\n",
      " [ 64  67]]\n"
     ]
    }
   ],
   "source": [
    "K_Nearest_Data(df_PCA)"
   ]
  }
 ],
 "metadata": {
  "kernelspec": {
   "display_name": "Python 3.9.12 ('base')",
   "language": "python",
   "name": "python3"
  },
  "language_info": {
   "codemirror_mode": {
    "name": "ipython",
    "version": 3
   },
   "file_extension": ".py",
   "mimetype": "text/x-python",
   "name": "python",
   "nbconvert_exporter": "python",
   "pygments_lexer": "ipython3",
   "version": "3.9.12"
  },
  "orig_nbformat": 4,
  "vscode": {
   "interpreter": {
    "hash": "929163599431c7b3e753eb9c75a6800fa8c5c72fb3910ee126ea89c879162a29"
   }
  }
 },
 "nbformat": 4,
 "nbformat_minor": 2
}

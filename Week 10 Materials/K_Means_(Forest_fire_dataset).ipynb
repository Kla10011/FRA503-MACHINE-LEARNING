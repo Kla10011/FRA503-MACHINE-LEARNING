{
  "cells": [
    {
      "cell_type": "code",
      "execution_count": 1,
      "metadata": {
        "id": "jGNv2Rcgy30b"
      },
      "outputs": [],
      "source": [
        "# import library\n",
        "import pandas as pd\n",
        "import numpy as np\n",
        "from matplotlib import pyplot as plt"
      ]
    },
    {
      "cell_type": "code",
      "execution_count": 2,
      "metadata": {
        "colab": {
          "base_uri": "https://localhost:8080/",
          "height": 457
        },
        "id": "qFy93NTOptrI",
        "outputId": "87c78562-3536-4aa7-c1b2-1e19ac224412"
      },
      "outputs": [
        {
          "data": {
            "text/html": [
              "<div>\n",
              "<style scoped>\n",
              "    .dataframe tbody tr th:only-of-type {\n",
              "        vertical-align: middle;\n",
              "    }\n",
              "\n",
              "    .dataframe tbody tr th {\n",
              "        vertical-align: top;\n",
              "    }\n",
              "\n",
              "    .dataframe thead th {\n",
              "        text-align: right;\n",
              "    }\n",
              "</style>\n",
              "<table border=\"1\" class=\"dataframe\">\n",
              "  <thead>\n",
              "    <tr style=\"text-align: right;\">\n",
              "      <th></th>\n",
              "      <th>Temperature</th>\n",
              "      <th>Humidity</th>\n",
              "      <th>Fires</th>\n",
              "    </tr>\n",
              "  </thead>\n",
              "  <tbody>\n",
              "    <tr>\n",
              "      <th>0</th>\n",
              "      <td>22.8</td>\n",
              "      <td>40</td>\n",
              "      <td>No</td>\n",
              "    </tr>\n",
              "    <tr>\n",
              "      <th>1</th>\n",
              "      <td>29.6</td>\n",
              "      <td>27</td>\n",
              "      <td>Yes</td>\n",
              "    </tr>\n",
              "    <tr>\n",
              "      <th>2</th>\n",
              "      <td>17.8</td>\n",
              "      <td>51</td>\n",
              "      <td>No</td>\n",
              "    </tr>\n",
              "    <tr>\n",
              "      <th>3</th>\n",
              "      <td>19.3</td>\n",
              "      <td>38</td>\n",
              "      <td>No</td>\n",
              "    </tr>\n",
              "    <tr>\n",
              "      <th>4</th>\n",
              "      <td>28.6</td>\n",
              "      <td>27</td>\n",
              "      <td>Yes</td>\n",
              "    </tr>\n",
              "    <tr>\n",
              "      <th>5</th>\n",
              "      <td>17.8</td>\n",
              "      <td>56</td>\n",
              "      <td>Yes</td>\n",
              "    </tr>\n",
              "    <tr>\n",
              "      <th>6</th>\n",
              "      <td>17.7</td>\n",
              "      <td>25</td>\n",
              "      <td>Yes</td>\n",
              "    </tr>\n",
              "    <tr>\n",
              "      <th>7</th>\n",
              "      <td>18.2</td>\n",
              "      <td>46</td>\n",
              "      <td>Yes</td>\n",
              "    </tr>\n",
              "    <tr>\n",
              "      <th>8</th>\n",
              "      <td>25.1</td>\n",
              "      <td>27</td>\n",
              "      <td>No</td>\n",
              "    </tr>\n",
              "    <tr>\n",
              "      <th>9</th>\n",
              "      <td>30.2</td>\n",
              "      <td>24</td>\n",
              "      <td>No</td>\n",
              "    </tr>\n",
              "    <tr>\n",
              "      <th>10</th>\n",
              "      <td>19.6</td>\n",
              "      <td>48</td>\n",
              "      <td>No</td>\n",
              "    </tr>\n",
              "    <tr>\n",
              "      <th>11</th>\n",
              "      <td>24.1</td>\n",
              "      <td>29</td>\n",
              "      <td>No</td>\n",
              "    </tr>\n",
              "    <tr>\n",
              "      <th>12</th>\n",
              "      <td>20.3</td>\n",
              "      <td>45</td>\n",
              "      <td>No</td>\n",
              "    </tr>\n",
              "  </tbody>\n",
              "</table>\n",
              "</div>"
            ],
            "text/plain": [
              "    Temperature  Humidity Fires\n",
              "0          22.8        40    No\n",
              "1          29.6        27   Yes\n",
              "2          17.8        51    No\n",
              "3          19.3        38    No\n",
              "4          28.6        27   Yes\n",
              "5          17.8        56   Yes\n",
              "6          17.7        25   Yes\n",
              "7          18.2        46   Yes\n",
              "8          25.1        27    No\n",
              "9          30.2        24    No\n",
              "10         19.6        48    No\n",
              "11         24.1        29    No\n",
              "12         20.3        45    No"
            ]
          },
          "execution_count": 2,
          "metadata": {},
          "output_type": "execute_result"
        }
      ],
      "source": [
        "#Example\n",
        "#Dataset\n",
        "#https://raw.githubusercontent.com/adminho/machine-learning/master/Datasets/forest_fires.csv\n",
        "df = pd.read_csv(\"https://raw.githubusercontent.com/adminho/machine-learning/master/Datasets/forest_fires.csv\")\n",
        "df"
      ]
    },
    {
      "cell_type": "code",
      "execution_count": 3,
      "metadata": {
        "colab": {
          "base_uri": "https://localhost:8080/",
          "height": 350
        },
        "id": "WTSisETspvHh",
        "outputId": "65d32801-b6d6-4abf-faa3-1583710c2083"
      },
      "outputs": [
        {
          "data": {
            "image/png": "[encoded data removed]",
            "text/plain": [
              "<Figure size 360x360 with 1 Axes>"
            ]
          },
          "metadata": {
            "needs_background": "light"
          },
          "output_type": "display_data"
        }
      ],
      "source": [
        "#plot results\n",
        "GroupNo = df[df['Fires']=='No']\n",
        "GroupYes = df[df['Fires']=='Yes']\n",
        "plt.figure(figsize=(5,5))\n",
        "plt.title(\"Is fires or not\")\n",
        "plt.scatter(GroupNo['Temperature'],GroupNo['Humidity'],color='green',marker = 'o',label='No fires')\n",
        "plt.scatter(GroupYes['Temperature'],GroupYes['Humidity'],color='red',marker = 'x',label='Fires')\n",
        "plt.xlabel('Temperature')\n",
        "plt.ylabel('Humidity')\n",
        "plt.legend(loc='upper right')\n",
        "plt.show()"
      ]
    },
    {
      "cell_type": "code",
      "execution_count": 4,
      "metadata": {
        "colab": {
          "base_uri": "https://localhost:8080/",
          "height": 367
        },
        "id": "fO92H2gcCYpY",
        "outputId": "105c820d-32b0-45f1-cce7-c354e7965223"
      },
      "outputs": [
        {
          "name": "stderr",
          "output_type": "stream",
          "text": [
            "No artists with labels found to put in legend.  Note that artists whose label start with an underscore are ignored when legend() is called with no argument.\n"
          ]
        },
        {
          "data": {
            "image/png": "[encoded data removed]",
            "text/plain": [
              "<Figure size 360x360 with 1 Axes>"
            ]
          },
          "metadata": {
            "needs_background": "light"
          },
          "output_type": "display_data"
        }
      ],
      "source": [
        "#plot results\n",
        "GroupNo = df[df['Fires']=='No']\n",
        "GroupYes = df[df['Fires']=='Yes']\n",
        "plt.figure(figsize=(5,5))\n",
        "plt.title(\"Is fires or not\")\n",
        "plt.scatter(GroupNo['Temperature'],GroupNo['Humidity'],color='red',marker = 'o')\n",
        "plt.scatter(GroupYes['Temperature'],GroupYes['Humidity'],color='red',marker = 'o')\n",
        "plt.xlabel('Temperature')\n",
        "plt.ylabel('Humidity')\n",
        "plt.legend(loc='upper right')\n",
        "plt.show()"
      ]
    },
    {
      "cell_type": "code",
      "execution_count": 5,
      "metadata": {
        "id": "xjEc1MT9qyRW"
      },
      "outputs": [],
      "source": [
        "#import machine learning library\n",
        "from sklearn.cluster import KMeans"
      ]
    },
    {
      "cell_type": "code",
      "execution_count": 6,
      "metadata": {
        "id": "ZTNyfJW8pNBZ"
      },
      "outputs": [],
      "source": [
        "kmeans = KMeans(n_clusters=2, random_state=1,)"
      ]
    },
    {
      "cell_type": "code",
      "execution_count": 7,
      "metadata": {
        "id": "pPbO_vzfpfGJ"
      },
      "outputs": [
        {
          "name": "stderr",
          "output_type": "stream",
          "text": [
            "C:\\Users\\kla\\AppData\\Roaming\\Python\\Python39\\site-packages\\sklearn\\cluster\\_kmeans.py:1334: UserWarning: KMeans is known to have a memory leak on Windows with MKL, when there are less chunks than available threads. You can avoid it by setting the environment variable OMP_NUM_THREADS=1.\n",
            "  warnings.warn(\n"
          ]
        }
      ],
      "source": [
        "model = kmeans.fit(df[['Temperature','Humidity']])"
      ]
    },
    {
      "cell_type": "code",
      "execution_count": 8,
      "metadata": {
        "colab": {
          "base_uri": "https://localhost:8080/"
        },
        "id": "b90_8J8Krvbm",
        "outputId": "494001d5-7d21-4dc5-c1a5-9507415ef57d"
      },
      "outputs": [
        {
          "data": {
            "text/plain": [
              "array([0, 1, 0, 0, 1, 0, 1, 0, 1, 1, 0, 1, 0])"
            ]
          },
          "execution_count": 8,
          "metadata": {},
          "output_type": "execute_result"
        }
      ],
      "source": [
        "from sklearn import metrics\n",
        "labels = model.labels_\n",
        "labels"
      ]
    },
    {
      "cell_type": "code",
      "execution_count": 9,
      "metadata": {
        "colab": {
          "base_uri": "https://localhost:8080/"
        },
        "id": "6If0gIa2_4wU",
        "outputId": "6d395716-8d72-479a-9928-81b2da470c22"
      },
      "outputs": [
        {
          "data": {
            "text/plain": [
              "0.6448316893338306"
            ]
          },
          "execution_count": 9,
          "metadata": {},
          "output_type": "execute_result"
        }
      ],
      "source": [
        "metrics.silhouette_score(df[['Temperature','Humidity']], labels, metric='euclidean')"
      ]
    },
    {
      "cell_type": "code",
      "execution_count": 10,
      "metadata": {
        "colab": {
          "base_uri": "https://localhost:8080/"
        },
        "id": "wqRUusW_rcOU",
        "outputId": "88545070-eed8-4ed0-d1ba-7d5665cab3c2"
      },
      "outputs": [
        {
          "name": "stdout",
          "output_type": "stream",
          "text": [
            "The answer is 1\n"
          ]
        },
        {
          "name": "stderr",
          "output_type": "stream",
          "text": [
            "C:\\Users\\kla\\AppData\\Roaming\\Python\\Python39\\site-packages\\sklearn\\base.py:450: UserWarning: X does not have valid feature names, but KMeans was fitted with feature names\n",
            "  warnings.warn(\n"
          ]
        }
      ],
      "source": [
        "#New data\n",
        "new_temperature = 25.1 \n",
        "new_humidity = 33\n",
        "\n",
        "answer = model.predict([[new_temperature,new_humidity]])\n",
        "print(\"The answer is\",answer[0])"
      ]
    },
    {
      "cell_type": "code",
      "execution_count": 11,
      "metadata": {
        "colab": {
          "base_uri": "https://localhost:8080/"
        },
        "id": "0QLvUvbgtF8m",
        "outputId": "89d7b139-6b88-4907-99e9-83ac9503cbdd"
      },
      "outputs": [
        {
          "data": {
            "text/plain": [
              "array([ 4.12310563,  6.        ,  6.94622199,  7.36817481,  7.5       ,\n",
              "        7.65767589, 10.34456379, 10.89770618, 12.92439554, 14.71767645,\n",
              "       15.97654531, 19.42395428, 24.13068586])"
            ]
          },
          "execution_count": 11,
          "metadata": {},
          "output_type": "execute_result"
        }
      ],
      "source": [
        "#Calcutate distance\n",
        "def get_distance(X,Y,x_point,y_point):\n",
        "  return np.sort(np.sqrt((X-x_point)**2 + (Y-y_point)**2))\n",
        "distance = get_distance(df['Temperature'],df['Humidity'],new_temperature,new_humidity)\n",
        "distance"
      ]
    },
    {
      "cell_type": "code",
      "execution_count": 12,
      "metadata": {
        "colab": {
          "base_uri": "https://localhost:8080/",
          "height": 312
        },
        "id": "_FyqYXWvwYNN",
        "outputId": "134d0dbb-b942-4924-b290-1be00b0ce680"
      },
      "outputs": [
        {
          "data": {
            "text/plain": [
              "<matplotlib.legend.Legend at 0x19ae0e0f310>"
            ]
          },
          "execution_count": 12,
          "metadata": {},
          "output_type": "execute_result"
        },
        {
          "data": {
            "image/png": "[encoded data removed]",
            "text/plain": [
              "<Figure size 432x288 with 1 Axes>"
            ]
          },
          "metadata": {
            "needs_background": "light"
          },
          "output_type": "display_data"
        }
      ],
      "source": [
        "#Plot results\n",
        "Cluster0 = df[model.labels_ == 0]\n",
        "Cluster1 = df[model.labels_ == 1]\n",
        "\n",
        "cx1,cy1 = model.cluster_centers_[0] # เรียกตัว centers\n",
        "cx2,cy2 = model.cluster_centers_[1]\n",
        "\n",
        "distance1 = get_distance(Cluster0['Temperature'],Cluster0['Humidity'],cx1,cy1)\n",
        "distance2 = get_distance(Cluster1['Temperature'],Cluster1['Humidity'],cx2,cy2)\n",
        "\n",
        "radious1 = max(distance1)\n",
        "radious2 = max(distance2)\n",
        "\n",
        "plt.title(\"Is fires or not\")\n",
        "plt.xlabel('Temperature')\n",
        "plt.ylabel('Humidity')\n",
        "plt.axis('equal')\n",
        "\n",
        "circle1 = plt.Circle((cx1,cy1),radious1,alpha=0.2,color='b')\n",
        "plt.gcf().gca().add_artist(circle1)\n",
        "circle2 = plt.Circle((cx2,cy2),radious2,alpha=0.2,color='r')\n",
        "plt.gcf().gca().add_artist(circle2)\n",
        "\n",
        "plt.scatter(new_temperature,new_humidity,c='g',label = 'New data')\n",
        "plt.scatter(Cluster0['Temperature'],Cluster0['Humidity'],c='b',label = 'Cluster 0')\n",
        "plt.scatter(Cluster1['Temperature'],Cluster1['Humidity'],c='r',label = 'Cluster 1')\n",
        "plt.scatter(cx1,cy1,c='b',marker='+',label='Centroid 0')\n",
        "plt.scatter(cx2,cy2,c='r',marker='+',label='Centroid 1')\n",
        "plt.legend()"
      ]
    },
    {
      "cell_type": "code",
      "execution_count": 13,
      "metadata": {
        "colab": {
          "base_uri": "https://localhost:8080/"
        },
        "id": "F-POVRk9vOXE",
        "outputId": "ba9562b4-77e9-40af-fbcd-4d110b5f24a7"
      },
      "outputs": [
        {
          "name": "stderr",
          "output_type": "stream",
          "text": [
            "C:\\Users\\kla\\AppData\\Roaming\\Python\\Python39\\site-packages\\sklearn\\cluster\\_kmeans.py:1334: UserWarning: KMeans is known to have a memory leak on Windows with MKL, when there are less chunks than available threads. You can avoid it by setting the environment variable OMP_NUM_THREADS=1.\n",
            "  warnings.warn(\n",
            "C:\\Users\\kla\\AppData\\Roaming\\Python\\Python39\\site-packages\\sklearn\\cluster\\_kmeans.py:1334: UserWarning: KMeans is known to have a memory leak on Windows with MKL, when there are less chunks than available threads. You can avoid it by setting the environment variable OMP_NUM_THREADS=1.\n",
            "  warnings.warn(\n",
            "C:\\Users\\kla\\AppData\\Roaming\\Python\\Python39\\site-packages\\sklearn\\cluster\\_kmeans.py:1334: UserWarning: KMeans is known to have a memory leak on Windows with MKL, when there are less chunks than available threads. You can avoid it by setting the environment variable OMP_NUM_THREADS=1.\n",
            "  warnings.warn(\n",
            "C:\\Users\\kla\\AppData\\Roaming\\Python\\Python39\\site-packages\\sklearn\\cluster\\_kmeans.py:1334: UserWarning: KMeans is known to have a memory leak on Windows with MKL, when there are less chunks than available threads. You can avoid it by setting the environment variable OMP_NUM_THREADS=1.\n",
            "  warnings.warn(\n",
            "C:\\Users\\kla\\AppData\\Roaming\\Python\\Python39\\site-packages\\sklearn\\cluster\\_kmeans.py:1334: UserWarning: KMeans is known to have a memory leak on Windows with MKL, when there are less chunks than available threads. You can avoid it by setting the environment variable OMP_NUM_THREADS=1.\n",
            "  warnings.warn(\n",
            "C:\\Users\\kla\\AppData\\Roaming\\Python\\Python39\\site-packages\\sklearn\\cluster\\_kmeans.py:1334: UserWarning: KMeans is known to have a memory leak on Windows with MKL, when there are less chunks than available threads. You can avoid it by setting the environment variable OMP_NUM_THREADS=1.\n",
            "  warnings.warn(\n",
            "C:\\Users\\kla\\AppData\\Roaming\\Python\\Python39\\site-packages\\sklearn\\cluster\\_kmeans.py:1334: UserWarning: KMeans is known to have a memory leak on Windows with MKL, when there are less chunks than available threads. You can avoid it by setting the environment variable OMP_NUM_THREADS=1.\n",
            "  warnings.warn(\n",
            "C:\\Users\\kla\\AppData\\Roaming\\Python\\Python39\\site-packages\\sklearn\\cluster\\_kmeans.py:1334: UserWarning: KMeans is known to have a memory leak on Windows with MKL, when there are less chunks than available threads. You can avoid it by setting the environment variable OMP_NUM_THREADS=1.\n",
            "  warnings.warn(\n",
            "C:\\Users\\kla\\AppData\\Roaming\\Python\\Python39\\site-packages\\sklearn\\cluster\\_kmeans.py:1334: UserWarning: KMeans is known to have a memory leak on Windows with MKL, when there are less chunks than available threads. You can avoid it by setting the environment variable OMP_NUM_THREADS=1.\n",
            "  warnings.warn(\n"
          ]
        },
        {
          "data": {
            "text/plain": [
              "[0.6448316893338306,\n",
              " 0.4720235020455968,\n",
              " 0.4714652472357601,\n",
              " 0.4637338439400513,\n",
              " 0.4627505525569149,\n",
              " 0.38833953783072483,\n",
              " 0.30986731993924904,\n",
              " 0.2813138918989939,\n",
              " 0.20748088532957415]"
            ]
          },
          "execution_count": 13,
          "metadata": {},
          "output_type": "execute_result"
        }
      ],
      "source": [
        "Num_K = [i+2 for i in range(9)]\n",
        "silhouette_coef = []\n",
        "\n",
        "for k in Num_K:\n",
        "  kmeans = KMeans(n_clusters=k, random_state=1,)\n",
        "  model = kmeans.fit(df[['Temperature','Humidity']])\n",
        "  labels = model.labels_\n",
        "  silhouette_coef.append(metrics.silhouette_score(df[['Temperature','Humidity']], labels, metric='euclidean'))\n",
        "silhouette_coef"
      ]
    },
    {
      "cell_type": "code",
      "execution_count": 14,
      "metadata": {
        "colab": {
          "base_uri": "https://localhost:8080/",
          "height": 295
        },
        "id": "tFOb_0vb0jl7",
        "outputId": "221acc79-a7a0-4603-d753-9f5dc70f3ccc"
      },
      "outputs": [
        {
          "data": {
            "image/png": "[encoded data removed]",
            "text/plain": [
              "<Figure size 432x288 with 1 Axes>"
            ]
          },
          "metadata": {
            "needs_background": "light"
          },
          "output_type": "display_data"
        }
      ],
      "source": [
        "plt.scatter(Num_K,silhouette_coef)\n",
        "plt.plot(Num_K,silhouette_coef)\n",
        "plt.title('Silhouette coefficients')\n",
        "plt.ylabel('Scores')\n",
        "plt.xlabel('k')\n",
        "plt.show()"
      ]
    },
    {
      "cell_type": "code",
      "execution_count": 15,
      "metadata": {
        "colab": {
          "base_uri": "https://localhost:8080/"
        },
        "id": "Bhefcky23fcb",
        "outputId": "f090cba3-940f-4d1f-cfb3-cde440bb706b"
      },
      "outputs": [
        {
          "name": "stderr",
          "output_type": "stream",
          "text": [
            "C:\\Users\\kla\\AppData\\Roaming\\Python\\Python39\\site-packages\\sklearn\\cluster\\_kmeans.py:1334: UserWarning: KMeans is known to have a memory leak on Windows with MKL, when there are less chunks than available threads. You can avoid it by setting the environment variable OMP_NUM_THREADS=1.\n",
            "  warnings.warn(\n",
            "C:\\Users\\kla\\AppData\\Roaming\\Python\\Python39\\site-packages\\sklearn\\cluster\\_kmeans.py:1334: UserWarning: KMeans is known to have a memory leak on Windows with MKL, when there are less chunks than available threads. You can avoid it by setting the environment variable OMP_NUM_THREADS=1.\n",
            "  warnings.warn(\n",
            "C:\\Users\\kla\\AppData\\Roaming\\Python\\Python39\\site-packages\\sklearn\\cluster\\_kmeans.py:1334: UserWarning: KMeans is known to have a memory leak on Windows with MKL, when there are less chunks than available threads. You can avoid it by setting the environment variable OMP_NUM_THREADS=1.\n",
            "  warnings.warn(\n",
            "C:\\Users\\kla\\AppData\\Roaming\\Python\\Python39\\site-packages\\sklearn\\cluster\\_kmeans.py:1334: UserWarning: KMeans is known to have a memory leak on Windows with MKL, when there are less chunks than available threads. You can avoid it by setting the environment variable OMP_NUM_THREADS=1.\n",
            "  warnings.warn(\n",
            "C:\\Users\\kla\\AppData\\Roaming\\Python\\Python39\\site-packages\\sklearn\\cluster\\_kmeans.py:1334: UserWarning: KMeans is known to have a memory leak on Windows with MKL, when there are less chunks than available threads. You can avoid it by setting the environment variable OMP_NUM_THREADS=1.\n",
            "  warnings.warn(\n",
            "C:\\Users\\kla\\AppData\\Roaming\\Python\\Python39\\site-packages\\sklearn\\cluster\\_kmeans.py:1334: UserWarning: KMeans is known to have a memory leak on Windows with MKL, when there are less chunks than available threads. You can avoid it by setting the environment variable OMP_NUM_THREADS=1.\n",
            "  warnings.warn(\n",
            "C:\\Users\\kla\\AppData\\Roaming\\Python\\Python39\\site-packages\\sklearn\\cluster\\_kmeans.py:1334: UserWarning: KMeans is known to have a memory leak on Windows with MKL, when there are less chunks than available threads. You can avoid it by setting the environment variable OMP_NUM_THREADS=1.\n",
            "  warnings.warn(\n",
            "C:\\Users\\kla\\AppData\\Roaming\\Python\\Python39\\site-packages\\sklearn\\cluster\\_kmeans.py:1334: UserWarning: KMeans is known to have a memory leak on Windows with MKL, when there are less chunks than available threads. You can avoid it by setting the environment variable OMP_NUM_THREADS=1.\n",
            "  warnings.warn(\n",
            "C:\\Users\\kla\\AppData\\Roaming\\Python\\Python39\\site-packages\\sklearn\\cluster\\_kmeans.py:1334: UserWarning: KMeans is known to have a memory leak on Windows with MKL, when there are less chunks than available threads. You can avoid it by setting the environment variable OMP_NUM_THREADS=1.\n",
            "  warnings.warn(\n",
            "C:\\Users\\kla\\AppData\\Roaming\\Python\\Python39\\site-packages\\sklearn\\cluster\\_kmeans.py:1334: UserWarning: KMeans is known to have a memory leak on Windows with MKL, when there are less chunks than available threads. You can avoid it by setting the environment variable OMP_NUM_THREADS=1.\n",
            "  warnings.warn(\n"
          ]
        },
        {
          "data": {
            "text/plain": [
              "[1775.0615384615385,\n",
              " 374.4969047619047,\n",
              " 217.52833333333334,\n",
              " 135.185,\n",
              " 70.60633333333332,\n",
              " 37.385000000000005,\n",
              " 24.884999999999998,\n",
              " 16.759999999999998,\n",
              " 9.953333333333337,\n",
              " 5.705000000000004]"
            ]
          },
          "execution_count": 15,
          "metadata": {},
          "output_type": "execute_result"
        }
      ],
      "source": [
        "Num_K = [i+1 for i in range(10)]\n",
        "WCSS = []\n",
        "\n",
        "for k in Num_K:\n",
        "  kmeans = KMeans(n_clusters=k, random_state=1,)\n",
        "  model = kmeans.fit(df[['Temperature','Humidity']])\n",
        "  WCSS.append(model.inertia_)\n",
        "WCSS"
      ]
    },
    {
      "cell_type": "code",
      "execution_count": 16,
      "metadata": {
        "colab": {
          "base_uri": "https://localhost:8080/",
          "height": 295
        },
        "id": "vljDxTjB03Zo",
        "outputId": "1e65b3da-5a1a-4a90-a438-b927100be42b"
      },
      "outputs": [
        {
          "data": {
            "image/png": "[encoded data removed]",
            "text/plain": [
              "<Figure size 432x288 with 1 Axes>"
            ]
          },
          "metadata": {
            "needs_background": "light"
          },
          "output_type": "display_data"
        }
      ],
      "source": [
        "plt.scatter(Num_K,WCSS )\n",
        "plt.plot(Num_K,WCSS )\n",
        "plt.title('WCSS')\n",
        "plt.ylabel('Scores')\n",
        "plt.xlabel('k')\n",
        "plt.show()"
      ]
    },
    {
      "cell_type": "code",
      "execution_count": null,
      "metadata": {
        "id": "g-xaQGUM3zfY"
      },
      "outputs": [],
      "source": []
    }
  ],
  "metadata": {
    "colab": {
      "collapsed_sections": [],
      "provenance": []
    },
    "kernelspec": {
      "display_name": "Python 3.9.12 ('base')",
      "language": "python",
      "name": "python3"
    },
    "language_info": {
      "codemirror_mode": {
        "name": "ipython",
        "version": 3
      },
      "file_extension": ".py",
      "mimetype": "text/x-python",
      "name": "python",
      "nbconvert_exporter": "python",
      "pygments_lexer": "ipython3",
      "version": "3.9.12"
    },
    "vscode": {
      "interpreter": {
        "hash": "ad2bdc8ecc057115af97d19610ffacc2b4e99fae6737bb82f5d7fb13d2f2c186"
      }
    }
  },
  "nbformat": 4,
  "nbformat_minor": 0
}

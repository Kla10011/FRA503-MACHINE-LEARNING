{
 "cells": [
  {
   "cell_type": "markdown",
   "metadata": {},
   "source": [
    "# TRAIN #1"
   ]
  },
  {
   "cell_type": "markdown",
   "metadata": {},
   "source": [
    "## Data Exploration"
   ]
  },
  {
   "cell_type": "markdown",
   "metadata": {},
   "source": [
    "โดยชุดข้อมูลนี้ต้องการให้เราทำนายว่าผู้ใช้งาน credit_card จะมีแนวโน้มว่าจะยกเลิก หรือ จะใช้งาน credit_card ต่อไปโดยวิเคราะห์จาก feature ที่มี\n",
    "จากข้อมูลที่ได้มามี feature ทั้งหมด 23 feature และมี sample ทั้งหมด 10127 คน จากคำแนะนำของชุดข้อมูลได้ทำการลบ 2 feature สุดท้ายออก<br>\n",
    "แยก feature Attrition_Flag ออกมาเก็บในตัวแปล df_y เหลือชุดข้อมูลในการวิเคราะห์ทั้งหมด 20 feature"
   ]
  },
  {
   "cell_type": "code",
   "execution_count": 1,
   "metadata": {},
   "outputs": [
    {
     "name": "stdout",
     "output_type": "stream",
     "text": [
      "(10127, 20)\n"
     ]
    },
    {
     "data": {
      "text/html": [
       "<div>\n",
       "<style scoped>\n",
       "    .dataframe tbody tr th:only-of-type {\n",
       "        vertical-align: middle;\n",
       "    }\n",
       "\n",
       "    .dataframe tbody tr th {\n",
       "        vertical-align: top;\n",
       "    }\n",
       "\n",
       "    .dataframe thead th {\n",
       "        text-align: right;\n",
       "    }\n",
       "</style>\n",
       "<table border=\"1\" class=\"dataframe\">\n",
       "  <thead>\n",
       "    <tr style=\"text-align: right;\">\n",
       "      <th></th>\n",
       "      <th>CLIENTNUM</th>\n",
       "      <th>Customer_Age</th>\n",
       "      <th>Gender</th>\n",
       "      <th>Dependent_count</th>\n",
       "      <th>Education_Level</th>\n",
       "      <th>Marital_Status</th>\n",
       "      <th>Income_Category</th>\n",
       "      <th>Card_Category</th>\n",
       "      <th>Months_on_book</th>\n",
       "      <th>Total_Relationship_Count</th>\n",
       "      <th>Months_Inactive_12_mon</th>\n",
       "      <th>Contacts_Count_12_mon</th>\n",
       "      <th>Credit_Limit</th>\n",
       "      <th>Total_Revolving_Bal</th>\n",
       "      <th>Avg_Open_To_Buy</th>\n",
       "      <th>Total_Amt_Chng_Q4_Q1</th>\n",
       "      <th>Total_Trans_Amt</th>\n",
       "      <th>Total_Trans_Ct</th>\n",
       "      <th>Total_Ct_Chng_Q4_Q1</th>\n",
       "      <th>Avg_Utilization_Ratio</th>\n",
       "    </tr>\n",
       "  </thead>\n",
       "  <tbody>\n",
       "    <tr>\n",
       "      <th>0</th>\n",
       "      <td>768805383</td>\n",
       "      <td>45</td>\n",
       "      <td>M</td>\n",
       "      <td>3</td>\n",
       "      <td>High School</td>\n",
       "      <td>Married</td>\n",
       "      <td>$60K - $80K</td>\n",
       "      <td>Blue</td>\n",
       "      <td>39</td>\n",
       "      <td>5</td>\n",
       "      <td>1</td>\n",
       "      <td>3</td>\n",
       "      <td>12691.0</td>\n",
       "      <td>777</td>\n",
       "      <td>11914.0</td>\n",
       "      <td>1.335</td>\n",
       "      <td>1144</td>\n",
       "      <td>42</td>\n",
       "      <td>1.625</td>\n",
       "      <td>0.061</td>\n",
       "    </tr>\n",
       "    <tr>\n",
       "      <th>1</th>\n",
       "      <td>818770008</td>\n",
       "      <td>49</td>\n",
       "      <td>F</td>\n",
       "      <td>5</td>\n",
       "      <td>Graduate</td>\n",
       "      <td>Single</td>\n",
       "      <td>Less than $40K</td>\n",
       "      <td>Blue</td>\n",
       "      <td>44</td>\n",
       "      <td>6</td>\n",
       "      <td>1</td>\n",
       "      <td>2</td>\n",
       "      <td>8256.0</td>\n",
       "      <td>864</td>\n",
       "      <td>7392.0</td>\n",
       "      <td>1.541</td>\n",
       "      <td>1291</td>\n",
       "      <td>33</td>\n",
       "      <td>3.714</td>\n",
       "      <td>0.105</td>\n",
       "    </tr>\n",
       "    <tr>\n",
       "      <th>2</th>\n",
       "      <td>713982108</td>\n",
       "      <td>51</td>\n",
       "      <td>M</td>\n",
       "      <td>3</td>\n",
       "      <td>Graduate</td>\n",
       "      <td>Married</td>\n",
       "      <td>$80K - $120K</td>\n",
       "      <td>Blue</td>\n",
       "      <td>36</td>\n",
       "      <td>4</td>\n",
       "      <td>1</td>\n",
       "      <td>0</td>\n",
       "      <td>3418.0</td>\n",
       "      <td>0</td>\n",
       "      <td>3418.0</td>\n",
       "      <td>2.594</td>\n",
       "      <td>1887</td>\n",
       "      <td>20</td>\n",
       "      <td>2.333</td>\n",
       "      <td>0.000</td>\n",
       "    </tr>\n",
       "    <tr>\n",
       "      <th>3</th>\n",
       "      <td>769911858</td>\n",
       "      <td>40</td>\n",
       "      <td>F</td>\n",
       "      <td>4</td>\n",
       "      <td>High School</td>\n",
       "      <td>Unknown</td>\n",
       "      <td>Less than $40K</td>\n",
       "      <td>Blue</td>\n",
       "      <td>34</td>\n",
       "      <td>3</td>\n",
       "      <td>4</td>\n",
       "      <td>1</td>\n",
       "      <td>3313.0</td>\n",
       "      <td>2517</td>\n",
       "      <td>796.0</td>\n",
       "      <td>1.405</td>\n",
       "      <td>1171</td>\n",
       "      <td>20</td>\n",
       "      <td>2.333</td>\n",
       "      <td>0.760</td>\n",
       "    </tr>\n",
       "    <tr>\n",
       "      <th>4</th>\n",
       "      <td>709106358</td>\n",
       "      <td>40</td>\n",
       "      <td>M</td>\n",
       "      <td>3</td>\n",
       "      <td>Uneducated</td>\n",
       "      <td>Married</td>\n",
       "      <td>$60K - $80K</td>\n",
       "      <td>Blue</td>\n",
       "      <td>21</td>\n",
       "      <td>5</td>\n",
       "      <td>1</td>\n",
       "      <td>0</td>\n",
       "      <td>4716.0</td>\n",
       "      <td>0</td>\n",
       "      <td>4716.0</td>\n",
       "      <td>2.175</td>\n",
       "      <td>816</td>\n",
       "      <td>28</td>\n",
       "      <td>2.500</td>\n",
       "      <td>0.000</td>\n",
       "    </tr>\n",
       "  </tbody>\n",
       "</table>\n",
       "</div>"
      ],
      "text/plain": [
       "   CLIENTNUM  Customer_Age Gender  Dependent_count Education_Level  \\\n",
       "0  768805383            45      M                3     High School   \n",
       "1  818770008            49      F                5        Graduate   \n",
       "2  713982108            51      M                3        Graduate   \n",
       "3  769911858            40      F                4     High School   \n",
       "4  709106358            40      M                3      Uneducated   \n",
       "\n",
       "  Marital_Status Income_Category Card_Category  Months_on_book  \\\n",
       "0        Married     $60K - $80K          Blue              39   \n",
       "1         Single  Less than $40K          Blue              44   \n",
       "2        Married    $80K - $120K          Blue              36   \n",
       "3        Unknown  Less than $40K          Blue              34   \n",
       "4        Married     $60K - $80K          Blue              21   \n",
       "\n",
       "   Total_Relationship_Count  Months_Inactive_12_mon  Contacts_Count_12_mon  \\\n",
       "0                         5                       1                      3   \n",
       "1                         6                       1                      2   \n",
       "2                         4                       1                      0   \n",
       "3                         3                       4                      1   \n",
       "4                         5                       1                      0   \n",
       "\n",
       "   Credit_Limit  Total_Revolving_Bal  Avg_Open_To_Buy  Total_Amt_Chng_Q4_Q1  \\\n",
       "0       12691.0                  777          11914.0                 1.335   \n",
       "1        8256.0                  864           7392.0                 1.541   \n",
       "2        3418.0                    0           3418.0                 2.594   \n",
       "3        3313.0                 2517            796.0                 1.405   \n",
       "4        4716.0                    0           4716.0                 2.175   \n",
       "\n",
       "   Total_Trans_Amt  Total_Trans_Ct  Total_Ct_Chng_Q4_Q1  Avg_Utilization_Ratio  \n",
       "0             1144              42                1.625                  0.061  \n",
       "1             1291              33                3.714                  0.105  \n",
       "2             1887              20                2.333                  0.000  \n",
       "3             1171              20                2.333                  0.760  \n",
       "4              816              28                2.500                  0.000  "
      ]
     },
     "execution_count": 1,
     "metadata": {},
     "output_type": "execute_result"
    }
   ],
   "source": [
    "import pandas as pd\n",
    "import seaborn as sns\n",
    "from sklearn.linear_model import LogisticRegression\n",
    "import matplotlib.pyplot as plt\n",
    "import numpy as np\n",
    "from IPython.display import Image\n",
    "\n",
    "df = pd.read_csv('credit_card_churn.csv',sep=',')\n",
    "df.columns = [\"CLIENTNUM\",\"Attrition_Flag\",\"Customer_Age\",\"Gender\",\"Dependent_count\",\"Education_Level\",\"Marital_Status\",\"Income_Category\",\"Card_Category\",\"Months_on_book\",\"Total_Relationship_Count\",\"Months_Inactive_12_mon\",\"Contacts_Count_12_mon\",\"Credit_Limit\",\"Total_Revolving_Bal\",\"Avg_Open_To_Buy\",\"Total_Amt_Chng_Q4_Q1\",\"Total_Trans_Amt\",\"Total_Trans_Ct\",\"Total_Ct_Chng_Q4_Q1\",\"Avg_Utilization_Ratio\",\"Naive_Bayes_Classifier_Attrition_Flag_Card_Category_Contacts_Count_12_mon_Dependent_count_Education_Level_Months_Inactive_12_mon_1\",\"Naive_Bayes_Classifier_Attrition_Flag_Card_Category_Contacts_Count_12_mon_Dependent_count_Education_Level_Months_Inactive_12_mon_2\"]\n",
    "df_y = df[\"Attrition_Flag\"]\n",
    "df = df.drop([\"Attrition_Flag\",\"Naive_Bayes_Classifier_Attrition_Flag_Card_Category_Contacts_Count_12_mon_Dependent_count_Education_Level_Months_Inactive_12_mon_1\",\"Naive_Bayes_Classifier_Attrition_Flag_Card_Category_Contacts_Count_12_mon_Dependent_count_Education_Level_Months_Inactive_12_mon_2\"],axis = 1)\n",
    "print(df.shape)\n",
    "df.head()"
   ]
  },
  {
   "cell_type": "markdown",
   "metadata": {},
   "source": [
    "โดยชุดข้อมูลของคนที่ใช้ Credit card อยู่ในปัจจุบันมีจำนวน 8500 คน และ ยกเลิก Credit card มีจำนวน 1627 คน<br>\n",
    "จากการ check ข้อมูลไม่มี missing value ในชุดข้อมูล"
   ]
  },
  {
   "cell_type": "code",
   "execution_count": 2,
   "metadata": {},
   "outputs": [
    {
     "name": "stdout",
     "output_type": "stream",
     "text": [
      "Existing Customer    8500\n",
      "Attrited Customer    1627\n",
      "Name: Attrition_Flag, dtype: int64\n",
      "\n",
      "CLIENTNUM                   0\n",
      "Customer_Age                0\n",
      "Gender                      0\n",
      "Dependent_count             0\n",
      "Education_Level             0\n",
      "Marital_Status              0\n",
      "Income_Category             0\n",
      "Card_Category               0\n",
      "Months_on_book              0\n",
      "Total_Relationship_Count    0\n",
      "Months_Inactive_12_mon      0\n",
      "Contacts_Count_12_mon       0\n",
      "Credit_Limit                0\n",
      "Total_Revolving_Bal         0\n",
      "Avg_Open_To_Buy             0\n",
      "Total_Amt_Chng_Q4_Q1        0\n",
      "Total_Trans_Amt             0\n",
      "Total_Trans_Ct              0\n",
      "Total_Ct_Chng_Q4_Q1         0\n",
      "Avg_Utilization_Ratio       0\n",
      "dtype: int64\n",
      "(10127, 20)\n"
     ]
    }
   ],
   "source": [
    "print(df_y.value_counts())\n",
    "print(\"\")\n",
    "# ดู missing valus\n",
    "print(df.isnull().sum())\n",
    "print(df.shape)\n",
    "# code handmake\n",
    "# for i in range(0,len(df.columns)):\n",
    "#     print(df.columns[i] +\"\\t\\t\"+ str(df[str(df.columns[i])].isnull().sum()))"
   ]
  },
  {
   "cell_type": "markdown",
   "metadata": {},
   "source": [
    "## Model Building & Model Training"
   ]
  },
  {
   "cell_type": "code",
   "execution_count": 3,
   "metadata": {},
   "outputs": [],
   "source": [
    "df_onehot = pd.get_dummies(df)"
   ]
  },
  {
   "cell_type": "code",
   "execution_count": 4,
   "metadata": {},
   "outputs": [
    {
     "name": "stdout",
     "output_type": "stream",
     "text": [
      "Existing Customer    6364\n",
      "Attrited Customer    1231\n",
      "Name: Attrition_Flag, dtype: int64\n",
      "X_train : (7595, 38)\n"
     ]
    }
   ],
   "source": [
    "from sklearn.model_selection import train_test_split\n",
    "X_train, X_test, y_train, y_test = train_test_split(df_onehot,df_y,test_size = 0.25,random_state = 25)\n",
    "print(y_train.value_counts())\n",
    "\n",
    "print(\"X_train : \" +str(X_train.shape))"
   ]
  },
  {
   "cell_type": "markdown",
   "metadata": {},
   "source": [
    "Decision tree"
   ]
  },
  {
   "cell_type": "code",
   "execution_count": 5,
   "metadata": {},
   "outputs": [
    {
     "data": {
      "text/plain": [
       "DecisionTreeClassifier(criterion='entropy')"
      ]
     },
     "execution_count": 5,
     "metadata": {},
     "output_type": "execute_result"
    }
   ],
   "source": [
    "from sklearn.tree import DecisionTreeClassifier\n",
    "model_DecisionTree = DecisionTreeClassifier(criterion='entropy',)\n",
    "model_DecisionTree "
   ]
  },
  {
   "cell_type": "code",
   "execution_count": 6,
   "metadata": {},
   "outputs": [
    {
     "name": "stdout",
     "output_type": "stream",
     "text": [
      "Classification report \n",
      "=======================\n",
      "                   precision    recall  f1-score   support\n",
      "\n",
      "Attrited Customer       1.00      1.00      1.00      1231\n",
      "Existing Customer       1.00      1.00      1.00      6364\n",
      "\n",
      "         accuracy                           1.00      7595\n",
      "        macro avg       1.00      1.00      1.00      7595\n",
      "     weighted avg       1.00      1.00      1.00      7595\n",
      "\n",
      "Confusion matrix \n",
      "=======================\n",
      "[[1231    0]\n",
      " [   0 6364]]\n",
      "Classification report \n",
      "=======================\n",
      "                   precision    recall  f1-score   support\n",
      "\n",
      "Attrited Customer       0.82      0.82      0.82       396\n",
      "Existing Customer       0.97      0.97      0.97      2136\n",
      "\n",
      "         accuracy                           0.94      2532\n",
      "        macro avg       0.89      0.89      0.89      2532\n",
      "     weighted avg       0.94      0.94      0.94      2532\n",
      "\n",
      "Confusion matrix \n",
      "=======================\n",
      "[[ 324   72]\n",
      " [  70 2066]]\n"
     ]
    }
   ],
   "source": [
    "# train model\n",
    "model_DecisionTree.fit(X_train, y_train)\n",
    "# predict model train\n",
    "y_pred = model_DecisionTree.predict(X_train)\n",
    "\n",
    "# Classification report\n",
    "from sklearn.metrics import classification_report,confusion_matrix\n",
    "print(\"Classification report \\n=======================\")\n",
    "print(classification_report(y_true=y_train, y_pred=y_pred))\n",
    "print(\"Confusion matrix \\n=======================\")\n",
    "print(confusion_matrix(y_true=y_train, y_pred=y_pred))\n",
    "# predict model test\n",
    "y_pred = model_DecisionTree.predict(X_test)\n",
    "# predict model train\n",
    "print(\"Classification report \\n=======================\")\n",
    "print(classification_report(y_true=y_test, y_pred=y_pred))\n",
    "print(\"Confusion matrix \\n=======================\")\n",
    "print(confusion_matrix(y_true=y_test, y_pred=y_pred))\n"
   ]
  },
  {
   "cell_type": "markdown",
   "metadata": {},
   "source": [
    "Random forest"
   ]
  },
  {
   "cell_type": "code",
   "execution_count": 7,
   "metadata": {},
   "outputs": [
    {
     "data": {
      "text/plain": [
       "RandomForestClassifier(criterion='entropy')"
      ]
     },
     "execution_count": 7,
     "metadata": {},
     "output_type": "execute_result"
    }
   ],
   "source": [
    "from sklearn.ensemble import RandomForestClassifier\n",
    "model_RandomForest = RandomForestClassifier(n_estimators=100,criterion='entropy')\n",
    "model_RandomForest "
   ]
  },
  {
   "cell_type": "code",
   "execution_count": 8,
   "metadata": {},
   "outputs": [
    {
     "name": "stdout",
     "output_type": "stream",
     "text": [
      "Classification report \n",
      "=======================\n",
      "                   precision    recall  f1-score   support\n",
      "\n",
      "Attrited Customer       1.00      1.00      1.00      1231\n",
      "Existing Customer       1.00      1.00      1.00      6364\n",
      "\n",
      "         accuracy                           1.00      7595\n",
      "        macro avg       1.00      1.00      1.00      7595\n",
      "     weighted avg       1.00      1.00      1.00      7595\n",
      "\n",
      "Confusion matrix \n",
      "=======================\n",
      "[[1231    0]\n",
      " [   0 6364]]\n",
      "Classification report \n",
      "=======================\n",
      "                   precision    recall  f1-score   support\n",
      "\n",
      "Attrited Customer       0.91      0.81      0.86       396\n",
      "Existing Customer       0.97      0.99      0.98      2136\n",
      "\n",
      "         accuracy                           0.96      2532\n",
      "        macro avg       0.94      0.90      0.92      2532\n",
      "     weighted avg       0.96      0.96      0.96      2532\n",
      "\n",
      "Confusion matrix \n",
      "=======================\n",
      "[[ 322   74]\n",
      " [  30 2106]]\n"
     ]
    }
   ],
   "source": [
    "# train model\n",
    "model_RandomForest.fit(X_train, y_train)\n",
    "# predict model train\n",
    "y_pred = model_RandomForest.predict(X_train)\n",
    "# Classification report\n",
    "from sklearn.metrics import classification_report,confusion_matrix\n",
    "print(\"Classification report \\n=======================\")\n",
    "print(classification_report(y_true=y_train, y_pred=y_pred))\n",
    "print(\"Confusion matrix \\n=======================\")\n",
    "print(confusion_matrix(y_true=y_train, y_pred=y_pred))\n",
    "\n",
    "# predict model train\n",
    "y_pred = model_RandomForest.predict(X_test)\n",
    "# Classification report\n",
    "print(\"Classification report \\n=======================\")\n",
    "print(classification_report(y_true=y_test, y_pred=y_pred))\n",
    "print(\"Confusion matrix \\n=======================\")\n",
    "print(confusion_matrix(y_true=y_test, y_pred=y_pred))\n"
   ]
  },
  {
   "cell_type": "code",
   "execution_count": 9,
   "metadata": {},
   "outputs": [
    {
     "name": "stdout",
     "output_type": "stream",
     "text": [
      "Classification report \n",
      "=======================\n",
      "                   precision    recall  f1-score   support\n",
      "\n",
      "Attrited Customer       0.98      0.89      0.93      1231\n",
      "Existing Customer       0.98      1.00      0.99      6364\n",
      "\n",
      "         accuracy                           0.98      7595\n",
      "        macro avg       0.98      0.94      0.96      7595\n",
      "     weighted avg       0.98      0.98      0.98      7595\n",
      "\n",
      "Confusion matrix \n",
      "=======================\n",
      "[[1095  136]\n",
      " [  27 6337]]\n",
      "Classification report \n",
      "=======================\n",
      "                   precision    recall  f1-score   support\n",
      "\n",
      "Attrited Customer       0.90      0.73      0.81       396\n",
      "Existing Customer       0.95      0.98      0.97      2136\n",
      "\n",
      "         accuracy                           0.95      2532\n",
      "        macro avg       0.92      0.86      0.89      2532\n",
      "     weighted avg       0.94      0.95      0.94      2532\n",
      "\n",
      "Confusion matrix \n",
      "=======================\n",
      "[[ 291  105]\n",
      " [  34 2102]]\n"
     ]
    }
   ],
   "source": [
    "model_RandomForest = RandomForestClassifier(n_estimators=100,criterion='entropy',max_depth=10)\n",
    "model_RandomForest \n",
    "# train model\n",
    "\n",
    "model_RandomForest.fit(X_train, y_train)\n",
    "# predict model train\n",
    "y_pred = model_RandomForest.predict(X_train)\n",
    "# Classification report\n",
    "print(\"Classification report \\n=======================\")\n",
    "print(classification_report(y_true=y_train, y_pred=y_pred))\n",
    "print(\"Confusion matrix \\n=======================\")\n",
    "print(confusion_matrix(y_true=y_train, y_pred=y_pred))\n",
    "\n",
    "# predict model test\n",
    "y_pred = model_RandomForest.predict(X_test)\n",
    "# Classification report\n",
    "print(\"Classification report \\n=======================\")\n",
    "print(classification_report(y_true=y_test, y_pred=y_pred))\n",
    "print(\"Confusion matrix \\n=======================\")\n",
    "print(confusion_matrix(y_true=y_test, y_pred=y_pred))"
   ]
  },
  {
   "cell_type": "markdown",
   "metadata": {},
   "source": [
    "K_Nearest_Neighbor"
   ]
  },
  {
   "cell_type": "code",
   "execution_count": 10,
   "metadata": {},
   "outputs": [],
   "source": [
    "#import machine learning library\n",
    "from sklearn.neighbors import KNeighborsClassifier\n",
    "knn = KNeighborsClassifier(n_neighbors=3)\n",
    "model_knn = knn.fit(X_train, y_train)"
   ]
  },
  {
   "cell_type": "code",
   "execution_count": 11,
   "metadata": {},
   "outputs": [
    {
     "name": "stdout",
     "output_type": "stream",
     "text": [
      "Classification report \n",
      "=======================\n",
      "                   precision    recall  f1-score   support\n",
      "\n",
      "Attrited Customer       0.72      0.36      0.48      1231\n",
      "Existing Customer       0.89      0.97      0.93      6364\n",
      "\n",
      "         accuracy                           0.87      7595\n",
      "        macro avg       0.80      0.67      0.70      7595\n",
      "     weighted avg       0.86      0.87      0.86      7595\n",
      "\n",
      "Confusion matrix \n",
      "=======================\n",
      "[[ 446  785]\n",
      " [ 176 6188]]\n",
      "Classification report \n",
      "=======================\n",
      "                   precision    recall  f1-score   support\n",
      "\n",
      "Attrited Customer       0.17      0.09      0.12       396\n",
      "Existing Customer       0.84      0.92      0.88      2136\n",
      "\n",
      "         accuracy                           0.79      2532\n",
      "        macro avg       0.51      0.50      0.50      2532\n",
      "     weighted avg       0.74      0.79      0.76      2532\n",
      "\n",
      "Confusion matrix \n",
      "=======================\n",
      "[[  37  359]\n",
      " [ 181 1955]]\n"
     ]
    }
   ],
   "source": [
    "# predict model train\n",
    "y_pred = model_knn.predict(X_train)\n",
    "# Classification report\n",
    "print(\"Classification report \\n=======================\")\n",
    "print(classification_report(y_true=y_train, y_pred=y_pred))\n",
    "print(\"Confusion matrix \\n=======================\")\n",
    "print(confusion_matrix(y_true=y_train, y_pred=y_pred))\n",
    "\n",
    "# predict model test\n",
    "y_pred = model_knn.predict(X_test)\n",
    "# Classification report\n",
    "print(\"Classification report \\n=======================\")\n",
    "print(classification_report(y_true=y_test, y_pred=y_pred))\n",
    "print(\"Confusion matrix \\n=======================\")\n",
    "print(confusion_matrix(y_true=y_test, y_pred=y_pred))"
   ]
  },
  {
   "cell_type": "markdown",
   "metadata": {},
   "source": [
    "# TRAIN #2"
   ]
  },
  {
   "cell_type": "markdown",
   "metadata": {},
   "source": [
    "# Data preprocessing"
   ]
  },
  {
   "cell_type": "markdown",
   "metadata": {},
   "source": [
    "แยกชุดข้อมูลประเภท numeric and Categorical และเพื่ม y ที่เปลี่ยนข้อมูลจาก[\"Existing Customer\",\"Attrited Customer\"] เป็น [1,0] เข้าไปในข้อมูลทั้ง 2 ประเภท<br> "
   ]
  },
  {
   "cell_type": "code",
   "execution_count": 12,
   "metadata": {},
   "outputs": [
    {
     "name": "stdout",
     "output_type": "stream",
     "text": [
      "1    8500\n",
      "0    1627\n",
      "Name: Attrition_Flag, dtype: int64\n"
     ]
    }
   ],
   "source": [
    "# df_y = pd.get_dummies(df_y)\n",
    "df_y = df_y.replace([\"Existing Customer\",\"Attrited Customer\"],[1,0])\n",
    "print(df_y.value_counts())\n"
   ]
  },
  {
   "cell_type": "code",
   "execution_count": 13,
   "metadata": {},
   "outputs": [
    {
     "name": "stdout",
     "output_type": "stream",
     "text": [
      "numeric : (10127, 16)\n",
      "class : (10127, 6)\n"
     ]
    }
   ],
   "source": [
    "\n",
    "df_class = df.select_dtypes(object)\n",
    "df_numer = df.drop(df_class.columns,axis= 1)\n",
    "\n",
    "# เพื่ม y \n",
    "df_class = df_class.join([df_y])\n",
    "df_numer = df_numer.join([df_y])\n",
    "print(\"numeric : \"+str(df_numer.shape))\n",
    "print(\"class : \"+str(df_class.shape))\n",
    "# df_numer = df.drop(df_class.columns)\n"
   ]
  },
  {
   "cell_type": "markdown",
   "metadata": {},
   "source": [
    "one-hot ข้อมูลประเภท Categorical ในอยู่ในแบบใน numeric "
   ]
  },
  {
   "cell_type": "code",
   "execution_count": 14,
   "metadata": {},
   "outputs": [
    {
     "name": "stdout",
     "output_type": "stream",
     "text": [
      "2\n"
     ]
    }
   ],
   "source": [
    "df_class = pd.get_dummies(df_class)\n",
    "print(len(df_class.shape))\n",
    "# print(len(df_class.columns))"
   ]
  },
  {
   "cell_type": "markdown",
   "metadata": {},
   "source": [
    "Plot heatmap numeric"
   ]
  },
  {
   "cell_type": "code",
   "execution_count": 15,
   "metadata": {},
   "outputs": [
    {
     "data": {
      "text/html": [
       "<img src=\"pic/heatmap numeric.png\" width=\"300\" height=\"300\"/>"
      ],
      "text/plain": [
       "<IPython.core.display.Image object>"
      ]
     },
     "execution_count": 15,
     "metadata": {},
     "output_type": "execute_result"
    }
   ],
   "source": [
    "# corr = df_numer.corr()\n",
    "# mask = np.array(corr)\n",
    "# # print(corr)\n",
    "# mask[np.tril_indices_from(mask)] = False     \n",
    "# fig,ax = plt.subplots()\n",
    "# fig.set_size_inches(10,5)\n",
    "# sns.heatmap(corr,mask= mask,vmax =1,vmin = -1,annot= True,cmap= 'coolwarm')\n",
    "Image(url=\"pic/heatmap numeric.png\", width=300, height=300)"
   ]
  },
  {
   "cell_type": "markdown",
   "metadata": {},
   "source": [
    "Plot heatmap Categorical"
   ]
  },
  {
   "cell_type": "code",
   "execution_count": 16,
   "metadata": {},
   "outputs": [
    {
     "data": {
      "text/html": [
       "<img src=\"pic/heatmap classification.png\" width=\"300\" height=\"300\"/>"
      ],
      "text/plain": [
       "<IPython.core.display.Image object>"
      ]
     },
     "execution_count": 16,
     "metadata": {},
     "output_type": "execute_result"
    }
   ],
   "source": [
    "# corr = df_class.corr()\n",
    "# mask = np.array(corr)\n",
    "# # print(corr)\n",
    "# mask[np.tril_indices_from(mask)] = False     \n",
    "# fig,ax = plt.subplots()\n",
    "# fig.set_size_inches(10,5)\n",
    "# sns.heatmap(corr,mask= mask,vmax =1,vmin =-1,annot= True,cmap= 'coolwarm')\n",
    "Image(url=\"pic/heatmap classification.png\", width=300, height=300)"
   ]
  },
  {
   "cell_type": "markdown",
   "metadata": {},
   "source": [
    "Pairplot numeric"
   ]
  },
  {
   "cell_type": "code",
   "execution_count": 17,
   "metadata": {},
   "outputs": [
    {
     "data": {
      "text/html": [
       "<img src=\"pic/pairplot classification.png\" width=\"300\" height=\"300\"/>"
      ],
      "text/plain": [
       "<IPython.core.display.Image object>"
      ]
     },
     "execution_count": 17,
     "metadata": {},
     "output_type": "execute_result"
    }
   ],
   "source": [
    "# sns.pairplot(df_class,hue=\"Attrition_Flag\")\n",
    "Image(url=\"pic/pairplot classification.png\", width=300, height=300)"
   ]
  },
  {
   "cell_type": "markdown",
   "metadata": {},
   "source": [
    "Pairplot Categorical"
   ]
  },
  {
   "cell_type": "code",
   "execution_count": 18,
   "metadata": {},
   "outputs": [
    {
     "data": {
      "text/html": [
       "<img src=\"pic/pairplot numeric.png\" width=\"300\" height=\"300\"/>"
      ],
      "text/plain": [
       "<IPython.core.display.Image object>"
      ]
     },
     "execution_count": 18,
     "metadata": {},
     "output_type": "execute_result"
    }
   ],
   "source": [
    "# sns.pairplot(df_numer,hue=\"Attrition_Flag\")\n",
    "Image(url=\"pic/pairplot numeric.png\", width=300, height=300)"
   ]
  },
  {
   "cell_type": "code",
   "execution_count": 19,
   "metadata": {},
   "outputs": [
    {
     "data": {
      "text/html": [
       "<img src=\"pic/pairplot highlight.png\" width=\"300\" height=\"300\"/>"
      ],
      "text/plain": [
       "<IPython.core.display.Image object>"
      ]
     },
     "execution_count": 19,
     "metadata": {},
     "output_type": "execute_result"
    }
   ],
   "source": [
    "Image(url=\"pic/pairplot highlight.png\", width=300, height=300)"
   ]
  },
  {
   "cell_type": "markdown",
   "metadata": {},
   "source": [
    "จากการ pairplot ข้อมูลประเภท numeric มาว่ามีช่วงที่มีการแบ่งกลุ่มอย่างชัดเจนในช่วงสีแดง และสีฟ้า"
   ]
  },
  {
   "cell_type": "markdown",
   "metadata": {},
   "source": [
    "ผมจึงได้เลือก feature ในข้อมูลประเภท numeric ดังนี้\n",
    "* Credit_Limit \n",
    "* Total_Revolving_Bal\n",
    "* Avg_Open_To_Buy\n",
    "* Total_Amt_Chng_Q4_Q1\n",
    "* Total_Trans_Amt\n",
    "* Total_Trans_Ct\n",
    "* Total_Ct_Chng_Q4_Q1\n",
    "* Avg_Utilization_Ratio\n",
    "* Attrition_Flag"
   ]
  },
  {
   "cell_type": "code",
   "execution_count": 20,
   "metadata": {},
   "outputs": [
    {
     "name": "stdout",
     "output_type": "stream",
     "text": [
      "(10127, 9)\n",
      "Index(['Credit_Limit', 'Total_Revolving_Bal', 'Avg_Open_To_Buy',\n",
      "       'Total_Amt_Chng_Q4_Q1', 'Total_Trans_Amt', 'Total_Trans_Ct',\n",
      "       'Total_Ct_Chng_Q4_Q1', 'Avg_Utilization_Ratio', 'Attrition_Flag'],\n",
      "      dtype='object')\n",
      "Total_Revolving_Bal\n"
     ]
    }
   ],
   "source": [
    "df_numer = df_numer.drop([\n",
    "    'CLIENTNUM', \n",
    "    'Customer_Age', \n",
    "    'Dependent_count', \n",
    "    'Months_on_book',\n",
    "    'Total_Relationship_Count', \n",
    "    'Months_Inactive_12_mon',\n",
    "    'Contacts_Count_12_mon'],axis = 1)\n",
    "print(df_numer.shape)\n",
    "print(df_numer.columns)\n",
    "print(str(df_numer.columns[1]))"
   ]
  },
  {
   "cell_type": "code",
   "execution_count": 21,
   "metadata": {},
   "outputs": [
    {
     "data": {
      "text/html": [
       "<img src=\"pic/heatmap highlight.png\" width=\"300\" height=\"300\"/>"
      ],
      "text/plain": [
       "<IPython.core.display.Image object>"
      ]
     },
     "execution_count": 21,
     "metadata": {},
     "output_type": "execute_result"
    }
   ],
   "source": [
    "Image(url=\"pic/heatmap highlight.png\", width=300, height=300)"
   ]
  },
  {
   "cell_type": "markdown",
   "metadata": {},
   "source": [
    "จากการทำ heatmap ข้อมูลประเภท Categorical พบว่าข้อมูลช่วงสีแดงเป็นข้อมูลที่มีความสัมพันธ์กัน"
   ]
  },
  {
   "cell_type": "markdown",
   "metadata": {},
   "source": [
    "ผมจึงได้เลือกใช้ feature ประเภท classificaltion ดังนี้\n",
    "* Gender\n",
    "* Income_Category"
   ]
  },
  {
   "cell_type": "code",
   "execution_count": 22,
   "metadata": {},
   "outputs": [
    {
     "name": "stdout",
     "output_type": "stream",
     "text": [
      "df_class : (10127, 8)\n",
      "(10127, 16)\n",
      "Index(['Credit_Limit', 'Total_Revolving_Bal', 'Avg_Open_To_Buy',\n",
      "       'Total_Amt_Chng_Q4_Q1', 'Total_Trans_Amt', 'Total_Trans_Ct',\n",
      "       'Total_Ct_Chng_Q4_Q1', 'Avg_Utilization_Ratio', 'Gender_F', 'Gender_M',\n",
      "       'Income_Category_$120K +', 'Income_Category_$40K - $60K',\n",
      "       'Income_Category_$60K - $80K', 'Income_Category_$80K - $120K',\n",
      "       'Income_Category_Less than $40K', 'Income_Category_Unknown'],\n",
      "      dtype='object')\n"
     ]
    }
   ],
   "source": [
    "\n",
    "df_class = pd.get_dummies(df[[\"Gender\",\"Income_Category\"]])\n",
    "print(\"df_class : \"+str(df_class.shape))\n",
    "\n",
    "df_full = df_numer.join([df_class])\n",
    "df_full = df_full.drop(\"Attrition_Flag\",axis=1)\n",
    "print(df_full.shape)\n",
    "print(df_full.columns)"
   ]
  },
  {
   "cell_type": "markdown",
   "metadata": {},
   "source": [
    "## Model Building & Model Training"
   ]
  },
  {
   "cell_type": "code",
   "execution_count": 23,
   "metadata": {},
   "outputs": [
    {
     "name": "stdout",
     "output_type": "stream",
     "text": [
      "1    6364\n",
      "0    1231\n",
      "Name: Attrition_Flag, dtype: int64\n",
      "X_train : (7595, 16)\n"
     ]
    }
   ],
   "source": [
    "from sklearn.model_selection import train_test_split\n",
    "X_train, X_test, y_train, y_test = train_test_split(df_full,df_y,test_size = 0.25,random_state = 25)\n",
    "print(y_train.value_counts())\n",
    "\n",
    "print(\"X_train : \" +str(X_train.shape))"
   ]
  },
  {
   "cell_type": "markdown",
   "metadata": {},
   "source": [
    "Decision tree"
   ]
  },
  {
   "cell_type": "code",
   "execution_count": 24,
   "metadata": {},
   "outputs": [
    {
     "data": {
      "text/plain": [
       "DecisionTreeClassifier(criterion='entropy')"
      ]
     },
     "execution_count": 24,
     "metadata": {},
     "output_type": "execute_result"
    }
   ],
   "source": [
    "from sklearn.tree import DecisionTreeClassifier\n",
    "model_DecisionTree = DecisionTreeClassifier(criterion='entropy',)\n",
    "model_DecisionTree "
   ]
  },
  {
   "cell_type": "code",
   "execution_count": 25,
   "metadata": {},
   "outputs": [
    {
     "name": "stdout",
     "output_type": "stream",
     "text": [
      "Classification report \n",
      "=======================\n",
      "              precision    recall  f1-score   support\n",
      "\n",
      "           0       1.00      1.00      1.00      1231\n",
      "           1       1.00      1.00      1.00      6364\n",
      "\n",
      "    accuracy                           1.00      7595\n",
      "   macro avg       1.00      1.00      1.00      7595\n",
      "weighted avg       1.00      1.00      1.00      7595\n",
      "\n",
      "Confusion matrix \n",
      "=======================\n",
      "[[1231    0]\n",
      " [   0 6364]]\n",
      "Classification report \n",
      "=======================\n",
      "              precision    recall  f1-score   support\n",
      "\n",
      "           0       0.81      0.77      0.79       396\n",
      "           1       0.96      0.97      0.96      2136\n",
      "\n",
      "    accuracy                           0.94      2532\n",
      "   macro avg       0.88      0.87      0.87      2532\n",
      "weighted avg       0.93      0.94      0.93      2532\n",
      "\n",
      "Confusion matrix \n",
      "=======================\n",
      "[[ 305   91]\n",
      " [  73 2063]]\n"
     ]
    }
   ],
   "source": [
    "# train model\n",
    "model_DecisionTree.fit(X_train, y_train)\n",
    "# predict model train\n",
    "y_pred = model_DecisionTree.predict(X_train)\n",
    "\n",
    "# Classification report\n",
    "from sklearn.metrics import classification_report,confusion_matrix\n",
    "print(\"Classification report \\n=======================\")\n",
    "print(classification_report(y_true=y_train, y_pred=y_pred))\n",
    "print(\"Confusion matrix \\n=======================\")\n",
    "print(confusion_matrix(y_true=y_train, y_pred=y_pred))\n",
    "# predict model test\n",
    "y_pred = model_DecisionTree.predict(X_test)\n",
    "# predict model train\n",
    "print(\"Classification report \\n=======================\")\n",
    "print(classification_report(y_true=y_test, y_pred=y_pred))\n",
    "print(\"Confusion matrix \\n=======================\")\n",
    "print(confusion_matrix(y_true=y_test, y_pred=y_pred))\n"
   ]
  },
  {
   "cell_type": "markdown",
   "metadata": {},
   "source": [
    "Random forest"
   ]
  },
  {
   "cell_type": "code",
   "execution_count": 26,
   "metadata": {},
   "outputs": [
    {
     "data": {
      "text/plain": [
       "RandomForestClassifier(criterion='entropy', max_depth=10)"
      ]
     },
     "execution_count": 26,
     "metadata": {},
     "output_type": "execute_result"
    }
   ],
   "source": [
    "from sklearn.ensemble import RandomForestClassifier\n",
    "model_RandomForest = RandomForestClassifier(n_estimators=100,criterion='entropy',max_depth=10)\n",
    "model_RandomForest "
   ]
  },
  {
   "cell_type": "code",
   "execution_count": 27,
   "metadata": {},
   "outputs": [
    {
     "name": "stdout",
     "output_type": "stream",
     "text": [
      "Classification report \n",
      "=======================\n",
      "              precision    recall  f1-score   support\n",
      "\n",
      "           0       0.97      0.91      0.94      1231\n",
      "           1       0.98      0.99      0.99      6364\n",
      "\n",
      "    accuracy                           0.98      7595\n",
      "   macro avg       0.98      0.95      0.96      7595\n",
      "weighted avg       0.98      0.98      0.98      7595\n",
      "\n",
      "Confusion matrix \n",
      "=======================\n",
      "[[1119  112]\n",
      " [  37 6327]]\n",
      "Classification report \n",
      "=======================\n",
      "              precision    recall  f1-score   support\n",
      "\n",
      "           0       0.87      0.78      0.83       396\n",
      "           1       0.96      0.98      0.97      2136\n",
      "\n",
      "    accuracy                           0.95      2532\n",
      "   macro avg       0.92      0.88      0.90      2532\n",
      "weighted avg       0.95      0.95      0.95      2532\n",
      "\n",
      "Confusion matrix \n",
      "=======================\n",
      "[[ 310   86]\n",
      " [  45 2091]]\n"
     ]
    }
   ],
   "source": [
    "# train model\n",
    "model_RandomForest.fit(X_train, y_train)\n",
    "# predict model train\n",
    "y_pred = model_RandomForest.predict(X_train)\n",
    "# Classification report\n",
    "from sklearn.metrics import classification_report,confusion_matrix\n",
    "print(\"Classification report \\n=======================\")\n",
    "print(classification_report(y_true=y_train, y_pred=y_pred))\n",
    "print(\"Confusion matrix \\n=======================\")\n",
    "print(confusion_matrix(y_true=y_train, y_pred=y_pred))\n",
    "\n",
    "# predict model train\n",
    "y_pred = model_RandomForest.predict(X_test)\n",
    "# Classification report\n",
    "print(\"Classification report \\n=======================\")\n",
    "print(classification_report(y_true=y_test, y_pred=y_pred))\n",
    "print(\"Confusion matrix \\n=======================\")\n",
    "print(confusion_matrix(y_true=y_test, y_pred=y_pred))\n"
   ]
  },
  {
   "cell_type": "markdown",
   "metadata": {},
   "source": [
    "ยัง overfining อยู่ ใช้ grid_serarch ในการปรับ parameter"
   ]
  },
  {
   "cell_type": "code",
   "execution_count": 28,
   "metadata": {},
   "outputs": [
    {
     "name": "stdout",
     "output_type": "stream",
     "text": [
      "Best params : {'max_depth': 10, 'n_estimators': 100}\n",
      "Accuracy of trainning set:0.98\n",
      "Accuracy of testing set:0.95\n"
     ]
    }
   ],
   "source": [
    "from sklearn.model_selection import GridSearchCV\n",
    "param_grid = {\"n_estimators\":[100,150,200],\"max_depth\":[10]}\n",
    "grid_search = GridSearchCV(RandomForestClassifier(), param_grid)\n",
    "grid_search.fit(X_train, y_train)\n",
    "print('Best params : {}'.format(grid_search.best_params_))\n",
    "print('Accuracy of trainning set:{:.2f}'.format(grid_search.score(X_train, y_train)))\n",
    "print('Accuracy of testing set:{:.2f}'.format(grid_search.score(X_test, y_test)))"
   ]
  },
  {
   "cell_type": "code",
   "execution_count": 29,
   "metadata": {},
   "outputs": [
    {
     "name": "stdout",
     "output_type": "stream",
     "text": [
      "Classification report \n",
      "=======================\n",
      "              precision    recall  f1-score   support\n",
      "\n",
      "           0       0.97      0.91      0.94      1231\n",
      "           1       0.98      0.99      0.99      6364\n",
      "\n",
      "    accuracy                           0.98      7595\n",
      "   macro avg       0.98      0.95      0.96      7595\n",
      "weighted avg       0.98      0.98      0.98      7595\n",
      "\n",
      "Confusion matrix \n",
      "=======================\n",
      "[[1124  107]\n",
      " [  35 6329]]\n",
      "Classification report \n",
      "=======================\n",
      "              precision    recall  f1-score   support\n",
      "\n",
      "           0       0.88      0.77      0.82       396\n",
      "           1       0.96      0.98      0.97      2136\n",
      "\n",
      "    accuracy                           0.95      2532\n",
      "   macro avg       0.92      0.88      0.90      2532\n",
      "weighted avg       0.95      0.95      0.95      2532\n",
      "\n",
      "Confusion matrix \n",
      "=======================\n",
      "[[ 305   91]\n",
      " [  42 2094]]\n"
     ]
    }
   ],
   "source": [
    "model_RandomForest = RandomForestClassifier(n_estimators=200,criterion='entropy',max_depth=10)\n",
    "model_RandomForest \n",
    "# train model\n",
    "\n",
    "model_RandomForest.fit(X_train, y_train)\n",
    "# predict model train\n",
    "y_pred = model_RandomForest.predict(X_train)\n",
    "# Classification report\n",
    "print(\"Classification report \\n=======================\")\n",
    "print(classification_report(y_true=y_train, y_pred=y_pred))\n",
    "print(\"Confusion matrix \\n=======================\")\n",
    "print(confusion_matrix(y_true=y_train, y_pred=y_pred))\n",
    "\n",
    "# predict model test\n",
    "y_pred = model_RandomForest.predict(X_test)\n",
    "# Classification report\n",
    "print(\"Classification report \\n=======================\")\n",
    "print(classification_report(y_true=y_test, y_pred=y_pred))\n",
    "print(\"Confusion matrix \\n=======================\")\n",
    "print(confusion_matrix(y_true=y_test, y_pred=y_pred))"
   ]
  },
  {
   "cell_type": "markdown",
   "metadata": {},
   "source": [
    "K_Nearest_Neighbor"
   ]
  },
  {
   "cell_type": "code",
   "execution_count": 30,
   "metadata": {},
   "outputs": [
    {
     "name": "stdout",
     "output_type": "stream",
     "text": [
      "Accuracy of trainning set:0.93\n",
      "Accuracy of testing set:0.89\n"
     ]
    }
   ],
   "source": [
    "#import machine learning library\n",
    "from sklearn.neighbors import KNeighborsClassifier\n",
    "knn = KNeighborsClassifier(n_neighbors=3)\n",
    "model_knn = knn.fit(X_train, y_train)\n",
    "print('Accuracy of trainning set:{:.2f}'.format(model_knn.score(X_train, y_train)))\n",
    "print('Accuracy of testing set:{:.2f}'.format(model_knn.score(X_test, y_test)))"
   ]
  },
  {
   "cell_type": "code",
   "execution_count": 31,
   "metadata": {},
   "outputs": [
    {
     "name": "stdout",
     "output_type": "stream",
     "text": [
      "Classification report \n",
      "=======================\n",
      "              precision    recall  f1-score   support\n",
      "\n",
      "           0       0.83      0.75      0.79      1231\n",
      "           1       0.95      0.97      0.96      6364\n",
      "\n",
      "    accuracy                           0.93      7595\n",
      "   macro avg       0.89      0.86      0.87      7595\n",
      "weighted avg       0.93      0.93      0.93      7595\n",
      "\n",
      "Confusion matrix \n",
      "=======================\n",
      "[[ 921  310]\n",
      " [ 186 6178]]\n",
      "Classification report \n",
      "=======================\n",
      "              precision    recall  f1-score   support\n",
      "\n",
      "           0       0.69      0.59      0.64       396\n",
      "           1       0.93      0.95      0.94      2136\n",
      "\n",
      "    accuracy                           0.89      2532\n",
      "   macro avg       0.81      0.77      0.79      2532\n",
      "weighted avg       0.89      0.89      0.89      2532\n",
      "\n",
      "Confusion matrix \n",
      "=======================\n",
      "[[ 234  162]\n",
      " [ 104 2032]]\n"
     ]
    }
   ],
   "source": [
    "knn = KNeighborsClassifier(n_neighbors=3)\n",
    "model_knn = knn.fit(X_train, y_train)\n",
    "# predict model train\n",
    "y_pred = model_knn.predict(X_train)\n",
    "# Classification report\n",
    "print(\"Classification report \\n=======================\")\n",
    "print(classification_report(y_true=y_train, y_pred=y_pred))\n",
    "print(\"Confusion matrix \\n=======================\")\n",
    "print(confusion_matrix(y_true=y_train, y_pred=y_pred))\n",
    "\n",
    "# predict model test\n",
    "y_pred = model_knn.predict(X_test)\n",
    "# Classification report\n",
    "print(\"Classification report \\n=======================\")\n",
    "print(classification_report(y_true=y_test, y_pred=y_pred))\n",
    "print(\"Confusion matrix \\n=======================\")\n",
    "print(confusion_matrix(y_true=y_test, y_pred=y_pred))"
   ]
  }
 ],
 "metadata": {
  "kernelspec": {
   "display_name": "Python 3.9.12 ('base')",
   "language": "python",
   "name": "python3"
  },
  "language_info": {
   "codemirror_mode": {
    "name": "ipython",
    "version": 3
   },
   "file_extension": ".py",
   "mimetype": "text/x-python",
   "name": "python",
   "nbconvert_exporter": "python",
   "pygments_lexer": "ipython3",
   "version": "3.9.12"
  },
  "orig_nbformat": 4,
  "vscode": {
   "interpreter": {
    "hash": "929163599431c7b3e753eb9c75a6800fa8c5c72fb3910ee126ea89c879162a29"
   }
  }
 },
 "nbformat": 4,
 "nbformat_minor": 2
}

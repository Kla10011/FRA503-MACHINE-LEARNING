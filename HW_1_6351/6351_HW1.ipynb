{
 "cells": [
  {
   "cell_type": "markdown",
   "metadata": {},
   "source": [
    "## การ Train ครั้งที่ 1"
   ]
  },
  {
   "cell_type": "code",
   "execution_count": 1,
   "metadata": {},
   "outputs": [],
   "source": [
    "import pandas as pd\n",
    "import seaborn as sns\n",
    "from sklearn.linear_model import LogisticRegression\n",
    "import matplotlib.pyplot as plt\n",
    "df = pd.read_csv('bank/bank-full.csv',sep=';')\n",
    "df.columns = [\"age\",\"job\",\"marital\",\"education\",\"default\",\"balance\",\"housing\",\"loan\",\"contact\",\"day\",\"month\",\"duration\",\"campaign\",\"pdays\",\"previous\",\"poutcome\",\"y\"]\n",
    "df_No_y = df.drop('y',axis = 1)\n",
    "df_y = df[['y']]\n",
    "# df_No_y.head()"
   ]
  },
  {
   "cell_type": "markdown",
   "metadata": {},
   "source": [
    "Data.set มี instances 45211 และมี attributes 17 attribute รวม output variable มีทั้ง attributes ที่เป็น Numeric และ Categorical จึงทำการ One-Hot Data ประเภท Categorical "
   ]
  },
  {
   "cell_type": "markdown",
   "metadata": {},
   "source": [
    "ดูความสัมพันธ์ระหว่าง feature ในประเภท numeric"
   ]
  },
  {
   "cell_type": "code",
   "execution_count": 2,
   "metadata": {},
   "outputs": [],
   "source": [
    "df_Numeric = df.drop([\"job\",\"marital\",\"education\",\"default\",\"housing\",\"loan\",\"contact\",\"month\",\"poutcome\",\"y\"],axis=1)\n",
    "df_Num_y = df_Numeric.join([df_y])\n",
    "# sns.pairplot(df_Num_y,hue=\"y\") #กราฟความสัมพันธ์\n",
    "# df_Num_y.head()\n"
   ]
  },
  {
   "cell_type": "markdown",
   "metadata": {},
   "source": [
    "ดูความสัมพันธ์ระหว่าง feature ในประเภท Categorical"
   ]
  },
  {
   "cell_type": "code",
   "execution_count": 3,
   "metadata": {},
   "outputs": [],
   "source": [
    "df_Categorical = df.drop([\"age\",\"balance\",\"day\",\"duration\",\"campaign\",\"pdays\",\"previous\"],axis=1)\n",
    "df_Onehot_Cat = pd.get_dummies(df_Categorical)\n",
    "df_Onehot_Cat_y = df_Onehot_Cat.join([df_y])\n",
    "# df_Onehot_Cat_y.head()\n",
    "# sns.pairplot(df_Onehot_Cat_y,hue=\"y\") #กราฟความสัมพันธ์"
   ]
  },
  {
   "cell_type": "markdown",
   "metadata": {},
   "source": [
    "ดูความสัมพันธ์ระหว่าง feature ทั้งหมด"
   ]
  },
  {
   "cell_type": "code",
   "execution_count": 4,
   "metadata": {},
   "outputs": [],
   "source": [
    "df_Onehot = pd.get_dummies(df_No_y)\n",
    "df_Onehot_y = df_Onehot.join([df_y])\n",
    "# df_Onehot_y.head()\n",
    "# sns.pairplot(df_Onehot_y,hue=\"y\") #กราฟความสัมพันธ์"
   ]
  },
  {
   "cell_type": "markdown",
   "metadata": {},
   "source": [
    "จากข้อมูลที่ได้จากกราฟความสัมพัมธ์ระหว่าง feature ทั้งหมด \n",
    "จึงเลือก feature balance,campaign,contact,poutcome เป็นหลักในการวิเคราะห์ เนื้องจากสังเกตุเห็นว่าข้อมูลความสัมพัมธ์นั้นมีการแบ่งเป็นกลุ่มที่ชัดเจนมากกว่า feature อื่นๆ  "
   ]
  },
  {
   "cell_type": "code",
   "execution_count": 5,
   "metadata": {},
   "outputs": [
    {
     "data": {
      "text/plain": [
       "(45211, 10)"
      ]
     },
     "execution_count": 5,
     "metadata": {},
     "output_type": "execute_result"
    }
   ],
   "source": [
    "from sklearn.model_selection import train_test_split\n",
    "import numpy as np\n",
    "# df_All = df.drop([\"job\",\"marital\",\"education\",\"default\",\"housing\",\"loan\",\"month\",\"duration\",\"pdays\",\"previous\",\"poutcome\",\"y\"],axis=1)\n",
    "df_All = df.drop([\"age\",\"job\",\"marital\",\"education\",\"default\",\"housing\",\"loan\",\"day\",\"month\",\"duration\",\"pdays\",\"previous\",\"y\"],axis=1)\n",
    "# df_All = df.drop([\"job\",\"marital\",\"education\",\"default\",\"housing\",\"loan\",\"month\",\"duration\",\"pdays\",\"previous\",\"y\"],axis=1)\n",
    "df_Onehot_All = pd.get_dummies(df_All)\n",
    "df_All_y = df_Onehot_All.join([df_y])\n",
    "df_All_y.shape\n",
    "# sns.pairplot(df_All_y,hue=\"y\") #กราฟความสัมพันธ์"
   ]
  },
  {
   "cell_type": "code",
   "execution_count": 6,
   "metadata": {},
   "outputs": [
    {
     "data": {
      "text/html": [
       "<div>\n",
       "<style scoped>\n",
       "    .dataframe tbody tr th:only-of-type {\n",
       "        vertical-align: middle;\n",
       "    }\n",
       "\n",
       "    .dataframe tbody tr th {\n",
       "        vertical-align: top;\n",
       "    }\n",
       "\n",
       "    .dataframe thead th {\n",
       "        text-align: right;\n",
       "    }\n",
       "</style>\n",
       "<table border=\"1\" class=\"dataframe\">\n",
       "  <thead>\n",
       "    <tr style=\"text-align: right;\">\n",
       "      <th></th>\n",
       "      <th>balance</th>\n",
       "      <th>campaign</th>\n",
       "      <th>contact_cellular</th>\n",
       "      <th>contact_telephone</th>\n",
       "      <th>contact_unknown</th>\n",
       "      <th>poutcome_failure</th>\n",
       "      <th>poutcome_other</th>\n",
       "      <th>poutcome_success</th>\n",
       "      <th>poutcome_unknown</th>\n",
       "    </tr>\n",
       "  </thead>\n",
       "  <tbody>\n",
       "    <tr>\n",
       "      <th>26184</th>\n",
       "      <td>20600</td>\n",
       "      <td>1</td>\n",
       "      <td>1</td>\n",
       "      <td>0</td>\n",
       "      <td>0</td>\n",
       "      <td>0</td>\n",
       "      <td>0</td>\n",
       "      <td>0</td>\n",
       "      <td>1</td>\n",
       "    </tr>\n",
       "    <tr>\n",
       "      <th>23587</th>\n",
       "      <td>0</td>\n",
       "      <td>22</td>\n",
       "      <td>1</td>\n",
       "      <td>0</td>\n",
       "      <td>0</td>\n",
       "      <td>0</td>\n",
       "      <td>0</td>\n",
       "      <td>0</td>\n",
       "      <td>1</td>\n",
       "    </tr>\n",
       "    <tr>\n",
       "      <th>28180</th>\n",
       "      <td>-199</td>\n",
       "      <td>1</td>\n",
       "      <td>1</td>\n",
       "      <td>0</td>\n",
       "      <td>0</td>\n",
       "      <td>0</td>\n",
       "      <td>0</td>\n",
       "      <td>0</td>\n",
       "      <td>1</td>\n",
       "    </tr>\n",
       "    <tr>\n",
       "      <th>27254</th>\n",
       "      <td>358</td>\n",
       "      <td>2</td>\n",
       "      <td>1</td>\n",
       "      <td>0</td>\n",
       "      <td>0</td>\n",
       "      <td>0</td>\n",
       "      <td>0</td>\n",
       "      <td>0</td>\n",
       "      <td>1</td>\n",
       "    </tr>\n",
       "    <tr>\n",
       "      <th>820</th>\n",
       "      <td>1109</td>\n",
       "      <td>1</td>\n",
       "      <td>0</td>\n",
       "      <td>0</td>\n",
       "      <td>1</td>\n",
       "      <td>0</td>\n",
       "      <td>0</td>\n",
       "      <td>0</td>\n",
       "      <td>1</td>\n",
       "    </tr>\n",
       "  </tbody>\n",
       "</table>\n",
       "</div>"
      ],
      "text/plain": [
       "       balance  campaign  contact_cellular  contact_telephone  \\\n",
       "26184    20600         1                 1                  0   \n",
       "23587        0        22                 1                  0   \n",
       "28180     -199         1                 1                  0   \n",
       "27254      358         2                 1                  0   \n",
       "820       1109         1                 0                  0   \n",
       "\n",
       "       contact_unknown  poutcome_failure  poutcome_other  poutcome_success  \\\n",
       "26184                0                 0               0                 0   \n",
       "23587                0                 0               0                 0   \n",
       "28180                0                 0               0                 0   \n",
       "27254                0                 0               0                 0   \n",
       "820                  1                 0               0                 0   \n",
       "\n",
       "       poutcome_unknown  \n",
       "26184                 1  \n",
       "23587                 1  \n",
       "28180                 1  \n",
       "27254                 1  \n",
       "820                   1  "
      ]
     },
     "execution_count": 6,
     "metadata": {},
     "output_type": "execute_result"
    }
   ],
   "source": [
    "training_data_All, testing_data_All = train_test_split(df_All_y, test_size=0.1, random_state=25)\n",
    "x_train= training_data_All.iloc[:,0:9]\n",
    "y_train= training_data_All.iloc[:,9]\n",
    "x_train.head()\n",
    "# x_train.shape"
   ]
  },
  {
   "cell_type": "code",
   "execution_count": 7,
   "metadata": {},
   "outputs": [
    {
     "name": "stdout",
     "output_type": "stream",
     "text": [
      "Theta0:  -0.9559065611541017\n",
      "Theta1:  2.918042994717795e-05\n",
      "Theta2:  -0.1312702381682209\n",
      "0 = -0.9559+0.0000x+-0.1313y\n"
     ]
    }
   ],
   "source": [
    "model_logistic_all = LogisticRegression()\n",
    "model_logistic_all.fit(x_train,y_train)\n",
    "# = theta0 + theta1*x _theta2*y\n",
    "print(\"Theta0: \",model_logistic_all.intercept_[0])\n",
    "print(\"Theta1: \",model_logistic_all.coef_[0][0])\n",
    "print(\"Theta2: \",model_logistic_all.coef_[0][1])\n",
    "print(\"0 = {:.4f}+{:.4f}x+{:.4f}y\".format(model_logistic_all.intercept_[0],model_logistic_all.coef_[0][0],model_logistic_all.coef_[0][1]))"
   ]
  },
  {
   "cell_type": "markdown",
   "metadata": {},
   "source": [
    "คาดคะเนผลลัพพ์จาก x_train\n",
    "(Predict on training set)"
   ]
  },
  {
   "cell_type": "code",
   "execution_count": 8,
   "metadata": {},
   "outputs": [],
   "source": [
    "y_pred = model_logistic_all.predict(x_train)"
   ]
  },
  {
   "cell_type": "markdown",
   "metadata": {},
   "source": [
    " เทียบผลลัพธ์ที่ได้ที่ได้จาก model กับ การผลลัพธ์จริง "
   ]
  },
  {
   "cell_type": "code",
   "execution_count": 9,
   "metadata": {},
   "outputs": [
    {
     "name": "stdout",
     "output_type": "stream",
     "text": [
      "Classification report \n",
      "=======================\n",
      "              precision    recall  f1-score   support\n",
      "\n",
      "          no       0.90      0.99      0.94     35925\n",
      "         yes       0.66      0.17      0.27      4764\n",
      "\n",
      "    accuracy                           0.89     40689\n",
      "   macro avg       0.78      0.58      0.60     40689\n",
      "weighted avg       0.87      0.89      0.86     40689\n",
      "\n"
     ]
    }
   ],
   "source": [
    "from sklearn.metrics import classification_report,confusion_matrix\n",
    "print(\"Classification report \\n=======================\")\n",
    "print(classification_report(y_true=y_train, y_pred=y_pred))"
   ]
  },
  {
   "cell_type": "code",
   "execution_count": 10,
   "metadata": {},
   "outputs": [
    {
     "name": "stderr",
     "output_type": "stream",
     "text": [
      "C:\\Users\\kla\\AppData\\Roaming\\Python\\Python39\\site-packages\\sklearn\\utils\\deprecation.py:87: FutureWarning: Function plot_confusion_matrix is deprecated; Function `plot_confusion_matrix` is deprecated in 1.0 and will be removed in 1.2. Use one of the class methods: ConfusionMatrixDisplay.from_predictions or ConfusionMatrixDisplay.from_estimator.\n",
      "  warnings.warn(msg, category=FutureWarning)\n"
     ]
    },
    {
     "data": {
      "image/png": "[encoded data removed]",
      "text/plain": [
       "<Figure size 432x288 with 2 Axes>"
      ]
     },
     "metadata": {
      "needs_background": "light"
     },
     "output_type": "display_data"
    }
   ],
   "source": [
    "import matplotlib.pyplot as plt\n",
    "from sklearn.metrics import plot_confusion_matrix\n",
    "plot_confusion_matrix(model_logistic_all,\n",
    "                      x_train,\n",
    "                      y_train,\n",
    "                      display_labels=list(set(y_train)),\n",
    "                      cmap=plt.cm.Blues) \n",
    "plt.title('Confusion matrix of test set')\n",
    "plt.show() "
   ]
  },
  {
   "cell_type": "markdown",
   "metadata": {},
   "source": [
    "## สรุปการ train ครั้งที่ 1"
   ]
  },
  {
   "cell_type": "markdown",
   "metadata": {},
   "source": [
    "จากการ train พบว่า precision recall และ f1-score ของข้อมูลคนที่ตอบ yes มีค่าน้อยกว่าข้อมูลคนที่ตอบ no เป็นอย่างมากเนื้องจากจำนวนข้อมูลใน Data-set ของคนที่ตอบ yes มีจำนวน 4796 คน คนที่ตอบ No 35925 คน ในการแก้ไขปัญหาอาจต้องทำให้ข้อมูลใน Data-sat เท่ากัน"
   ]
  }
 ],
 "metadata": {
  "kernelspec": {
   "display_name": "Python 3.9.12 ('base')",
   "language": "python",
   "name": "python3"
  },
  "language_info": {
   "codemirror_mode": {
    "name": "ipython",
    "version": 3
   },
   "file_extension": ".py",
   "mimetype": "text/x-python",
   "name": "python",
   "nbconvert_exporter": "python",
   "pygments_lexer": "ipython3",
   "version": "3.9.12"
  },
  "orig_nbformat": 4,
  "vscode": {
   "interpreter": {
    "hash": "ad2bdc8ecc057115af97d19610ffacc2b4e99fae6737bb82f5d7fb13d2f2c186"
   }
  }
 },
 "nbformat": 4,
 "nbformat_minor": 2
}
